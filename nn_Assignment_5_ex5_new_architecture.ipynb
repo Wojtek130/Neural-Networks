{
  "cells": [
    {
      "cell_type": "markdown",
      "metadata": {
        "id": "view-in-github",
        "colab_type": "text"
      },
      "source": [
        "<a href=\"https://colab.research.google.com/github/Wojtek130/Neural-Networks/blob/main/nn_Assignment_5_ex5_new_architecture.ipynb\" target=\"_parent\"><img src=\"https://colab.research.google.com/assets/colab-badge.svg\" alt=\"Open In Colab\"/></a>"
      ]
    },
    {
      "cell_type": "code",
      "execution_count": null,
      "metadata": {
        "id": "OGhwdUGp3ulG"
      },
      "outputs": [],
      "source": [
        "import torch\n",
        "import torchvision\n",
        "from torchvision.transforms import ToTensor, Normalize, Compose\n",
        "from torchvision.datasets import MNIST\n",
        "from torch.utils.data import DataLoader\n",
        "import torch.nn as nn\n",
        "from IPython.display import Image\n",
        "from torchvision.utils import save_image\n",
        "import os\n",
        "import numpy as np\n",
        "import random"
      ]
    },
    {
      "cell_type": "code",
      "execution_count": null,
      "metadata": {
        "colab": {
          "base_uri": "https://localhost:8080/"
        },
        "id": "ZsNC96U2e4Ns",
        "outputId": "e210cf57-3dd3-4a1d-cefa-00a954e0aa06"
      },
      "outputs": [
        {
          "output_type": "stream",
          "name": "stdout",
          "text": [
            "Downloading...\n",
            "From: https://storage.googleapis.com/quickdraw_dataset/full/numpy_bitmap/triangle.npy\n",
            "To: /content/triangle.npy\n",
            "100% 96.6M/96.6M [00:01<00:00, 69.7MB/s]\n",
            "Downloading...\n",
            "From: https://storage.googleapis.com/quickdraw_dataset/full/numpy_bitmap/circle.npy\n",
            "To: /content/circle.npy\n",
            "100% 96.3M/96.3M [00:01<00:00, 72.5MB/s]\n",
            "Downloading...\n",
            "From: https://storage.googleapis.com/quickdraw_dataset/full/numpy_bitmap/t-shirt.npy\n",
            "To: /content/t-shirt.npy\n",
            "100% 98.2M/98.2M [00:01<00:00, 52.6MB/s]\n",
            "Downloading...\n",
            "From: https://storage.googleapis.com/quickdraw_dataset/full/numpy_bitmap/shorts.npy\n",
            "To: /content/shorts.npy\n",
            "100% 98.0M/98.0M [00:01<00:00, 73.1MB/s]\n",
            "Downloading...\n",
            "From: https://storage.googleapis.com/quickdraw_dataset/full/numpy_bitmap/eye.npy\n",
            "To: /content/eye.npy\n",
            "100% 98.7M/98.7M [00:01<00:00, 73.5MB/s]\n"
          ]
        }
      ],
      "source": [
        "!gdown https://storage.googleapis.com/quickdraw_dataset/full/numpy_bitmap/triangle.npy\n",
        "!gdown https://storage.googleapis.com/quickdraw_dataset/full/numpy_bitmap/circle.npy\n",
        "!gdown https://storage.googleapis.com/quickdraw_dataset/full/numpy_bitmap/t-shirt.npy\n",
        "!gdown https://storage.googleapis.com/quickdraw_dataset/full/numpy_bitmap/shorts.npy\n",
        "!gdown https://storage.googleapis.com/quickdraw_dataset/full/numpy_bitmap/eye.npy"
      ]
    },
    {
      "cell_type": "code",
      "execution_count": null,
      "metadata": {
        "id": "vtwvjSgGfAZR"
      },
      "outputs": [],
      "source": [
        "classes = {\n",
        "    \"triangle\" : 0,\n",
        "    # \"circle\" : 1,\n",
        "    # \"t-shirt\" : 2,\n",
        "    # \"shorts\" : 3,\n",
        "    # \"eye\" : 4,\n",
        "}\n",
        "big_dataset = []\n",
        "for c_name, c_label in classes.items():\n",
        "    c_imgs = np.load(f\"{c_name}.npy\").reshape(-1, 28, 28)\n",
        "    # print(type(c_imgs))\n",
        "    img_1 = c_imgs[0]\n",
        "    c_imgs_with_labels = [(torch.from_numpy(img[np.newaxis, :, :]).to(torch.float32), c_label) for img in c_imgs]\n",
        "    big_dataset += c_imgs_with_labels"
      ]
    },
    {
      "cell_type": "code",
      "execution_count": null,
      "metadata": {
        "id": "6kghU_spfSwm"
      },
      "outputs": [],
      "source": [
        "batch_size = 100\n",
        "bd = random.sample(big_dataset, k=60000)\n",
        "data_loader = DataLoader(bd, batch_size, shuffle=True)"
      ]
    },
    {
      "cell_type": "code",
      "execution_count": null,
      "metadata": {
        "id": "lWG5wdaW32ft"
      },
      "outputs": [],
      "source": [
        "mnist = MNIST(root='data',\n",
        "              train=True,\n",
        "              download=True,\n",
        "              transform=Compose([ToTensor(), Normalize(mean=(0.5,), std=(0.5,))]))"
      ]
    },
    {
      "cell_type": "code",
      "execution_count": null,
      "metadata": {
        "colab": {
          "base_uri": "https://localhost:8080/"
        },
        "id": "MroDrr1FflXm",
        "outputId": "d07e15bc-df23-4ce3-c6ee-f82bfa3993e2"
      },
      "outputs": [
        {
          "output_type": "execute_result",
          "data": {
            "text/plain": [
              "(60000, 123170, list)"
            ]
          },
          "metadata": {},
          "execution_count": 41
        }
      ],
      "source": [
        "len(mnist), len(big_dataset), type(random.sample(big_dataset, k=60000))"
      ]
    },
    {
      "cell_type": "code",
      "execution_count": null,
      "metadata": {
        "colab": {
          "base_uri": "https://localhost:8080/"
        },
        "id": "Jsd7cHprfw5a",
        "outputId": "965c2ff4-097f-4c67-cbf1-f67723c5d00f"
      },
      "outputs": [
        {
          "output_type": "execute_result",
          "data": {
            "text/plain": [
              "123133"
            ]
          },
          "metadata": {},
          "execution_count": 42
        }
      ],
      "source": [
        "len(big_dataset[0])\n",
        "big_dataset[0][0].shape\n",
        "type(big_dataset[0][0][0][1][1].item())\n",
        "len(big_dataset[:-37])"
      ]
    },
    {
      "cell_type": "code",
      "execution_count": null,
      "metadata": {
        "colab": {
          "base_uri": "https://localhost:8080/"
        },
        "id": "uJl39gtp365Q",
        "outputId": "2c5abf78-4808-4854-d9a9-9544e166c1b6"
      },
      "outputs": [
        {
          "output_type": "stream",
          "name": "stdout",
          "text": [
            "Label:  0\n",
            "tensor([[[35.,  0.,  0.,  0.,  0.],\n",
            "         [ 0.,  0.,  0.,  0.,  0.],\n",
            "         [ 0.,  0.,  0.,  0.,  0.],\n",
            "         [ 0.,  0.,  0.,  0.,  0.],\n",
            "         [ 0.,  0.,  0.,  0.,  0.]]])\n"
          ]
        },
        {
          "output_type": "execute_result",
          "data": {
            "text/plain": [
              "(tensor(0.), tensor(255.))"
            ]
          },
          "metadata": {},
          "execution_count": 43
        }
      ],
      "source": [
        "img, label = big_dataset[-1]\n",
        "print('Label: ', label)\n",
        "print(img[:,10:15,10:15])\n",
        "torch.min(img), torch.max(img)"
      ]
    },
    {
      "cell_type": "code",
      "execution_count": null,
      "metadata": {
        "id": "pvDoOD2E3_9T"
      },
      "outputs": [],
      "source": [
        "def denorm(x):\n",
        "    out = (x + 1) / 2\n",
        "    return out.clamp(0, 1)"
      ]
    },
    {
      "cell_type": "code",
      "execution_count": null,
      "metadata": {
        "colab": {
          "base_uri": "https://localhost:8080/",
          "height": 447
        },
        "id": "D9telNwk4D7v",
        "outputId": "d6c2734d-54fa-4213-e9d6-faa023116684"
      },
      "outputs": [
        {
          "output_type": "stream",
          "name": "stdout",
          "text": [
            "Label: 0\n"
          ]
        },
        {
          "output_type": "display_data",
          "data": {
            "text/plain": [
              "<Figure size 640x480 with 1 Axes>"
            ],
            "image/png": "[encoded data removed]"
          },
          "metadata": {}
        }
      ],
      "source": [
        "import matplotlib.pyplot as plt\n",
        "%matplotlib inline\n",
        "\n",
        "img_norm = denorm(img)\n",
        "plt.imshow(img_norm[0], cmap='gray')\n",
        "print('Label:', label)"
      ]
    },
    {
      "cell_type": "code",
      "execution_count": null,
      "metadata": {
        "id": "kTxEoWNo4HuZ"
      },
      "outputs": [],
      "source": [
        "# batch_size = 100\n",
        "# data_loader = DataLoader(mnist, batch_size, shuffle=True)"
      ]
    },
    {
      "cell_type": "code",
      "execution_count": null,
      "metadata": {
        "colab": {
          "base_uri": "https://localhost:8080/"
        },
        "id": "jd3w7yxqCvAd",
        "outputId": "c20025a1-987f-4f7f-bb7d-3df9e4334b0c"
      },
      "outputs": [
        {
          "output_type": "stream",
          "name": "stdout",
          "text": [
            "<class 'tuple'> 2\n",
            "100 100 aaa\n"
          ]
        }
      ],
      "source": [
        "print(type(mnist[0]), len(mnist[0]))\n",
        "for x, y in data_loader:\n",
        "    print(len(x), len(y), \"aaa\")\n",
        "    break"
      ]
    },
    {
      "cell_type": "code",
      "execution_count": null,
      "metadata": {
        "colab": {
          "base_uri": "https://localhost:8080/",
          "height": 551
        },
        "id": "ROFFqPE74MdQ",
        "outputId": "0da6dbf8-48ee-4a59-f240-e751e98d766d"
      },
      "outputs": [
        {
          "output_type": "stream",
          "name": "stdout",
          "text": [
            "first batch\n",
            "torch.Size([100, 1, 28, 28])\n",
            "tensor([0, 0, 0, 0, 0, 0, 0, 0, 0, 0, 0, 0, 0, 0, 0, 0, 0, 0, 0, 0, 0, 0, 0, 0,\n",
            "        0, 0, 0, 0, 0, 0, 0, 0, 0, 0, 0, 0, 0, 0, 0, 0, 0, 0, 0, 0, 0, 0, 0, 0,\n",
            "        0, 0, 0, 0, 0, 0, 0, 0, 0, 0, 0, 0, 0, 0, 0, 0, 0, 0, 0, 0, 0, 0, 0, 0,\n",
            "        0, 0, 0, 0, 0, 0, 0, 0, 0, 0, 0, 0, 0, 0, 0, 0, 0, 0, 0, 0, 0, 0, 0, 0,\n",
            "        0, 0, 0, 0])\n"
          ]
        },
        {
          "output_type": "display_data",
          "data": {
            "text/plain": [
              "<Figure size 640x480 with 1 Axes>"
            ],
            "image/png": "[encoded data removed]"
          },
          "metadata": {}
        }
      ],
      "source": [
        "for img_batch, label_batch in data_loader:\n",
        "    print('first batch')\n",
        "    print(img_batch.shape)\n",
        "    plt.imshow(img_batch[0][0], cmap='gray')\n",
        "    print(label_batch)\n",
        "    break"
      ]
    },
    {
      "cell_type": "code",
      "execution_count": null,
      "metadata": {
        "id": "V0_iumaV4cy7"
      },
      "outputs": [],
      "source": [
        "# Device configuration\n",
        "device = torch.device('cuda' if torch.cuda.is_available() else 'cpu')"
      ]
    },
    {
      "cell_type": "code",
      "execution_count": null,
      "metadata": {
        "colab": {
          "base_uri": "https://localhost:8080/"
        },
        "id": "U2yw_8fx6WDy",
        "outputId": "0a28a5da-350c-4f21-bfa1-d0f63d53578f"
      },
      "outputs": [
        {
          "output_type": "execute_result",
          "data": {
            "text/plain": [
              "CustomModel(\n",
              "  (conv_layers): Sequential(\n",
              "    (0): Conv2d(1, 64, kernel_size=(5, 5), stride=(2, 2), padding=(2, 2))\n",
              "    (1): ReLU()\n",
              "    (2): Dropout(p=0.4, inplace=False)\n",
              "    (3): Conv2d(64, 128, kernel_size=(5, 5), stride=(2, 2), padding=(2, 2))\n",
              "    (4): ReLU()\n",
              "    (5): Dropout(p=0.4, inplace=False)\n",
              "    (6): Conv2d(128, 256, kernel_size=(5, 5), stride=(2, 2), padding=(2, 2))\n",
              "    (7): ReLU()\n",
              "    (8): Dropout(p=0.4, inplace=False)\n",
              "    (9): Conv2d(256, 512, kernel_size=(5, 5), stride=(1, 1), padding=(2, 2))\n",
              "    (10): ReLU()\n",
              "    (11): Dropout(p=0.4, inplace=False)\n",
              "    (12): Flatten(start_dim=1, end_dim=-1)\n",
              "  )\n",
              "  (output_layer): Sequential(\n",
              "    (0): Linear(in_features=8192, out_features=1, bias=True)\n",
              "    (1): Sigmoid()\n",
              "  )\n",
              ")"
            ]
          },
          "metadata": {},
          "execution_count": 50
        }
      ],
      "source": [
        "class CustomModel(nn.Module):\n",
        "    def __init__(self, img_w, img_h, depth, p):\n",
        "        super(CustomModel, self).__init__()\n",
        "\n",
        "        self.conv_layers = nn.Sequential(\n",
        "            nn.Conv2d(1, depth*1, kernel_size=5, stride=2, padding=2),\n",
        "            nn.ReLU(),\n",
        "            nn.Dropout(p),\n",
        "            nn.Conv2d(depth*1, depth*2, kernel_size=5, stride=2, padding=2),\n",
        "            nn.ReLU(),\n",
        "            nn.Dropout(p),\n",
        "            nn.Conv2d(depth*2, depth*4, kernel_size=5, stride=2, padding=2),\n",
        "            nn.ReLU(),\n",
        "            nn.Dropout(p),\n",
        "            nn.Conv2d(depth*4, depth*8, kernel_size=5, stride=1, padding=2),\n",
        "            nn.ReLU(),\n",
        "            nn.Dropout(p),\n",
        "            nn.Flatten()\n",
        "        )\n",
        "\n",
        "        self.output_layer = nn.Sequential(\n",
        "            # nn.Linear(depth*8 * (img_w//8) * (img_h//8), 1),\n",
        "            nn.Linear(8192, 1),\n",
        "            nn.Sigmoid()\n",
        "        )\n",
        "\n",
        "    def forward(self, x):\n",
        "        x = self.conv_layers(x)\n",
        "        x = self.output_layer(x)\n",
        "        return x\n",
        "\n",
        "# Example usage:\n",
        "img_w = 28\n",
        "img_h = 28\n",
        "depth = 64\n",
        "p = 0.4\n",
        "\n",
        "D2 = CustomModel(img_w, img_h, depth, p)\n",
        "D2.to(device)"
      ]
    },
    {
      "cell_type": "code",
      "execution_count": null,
      "metadata": {
        "id": "M8dZlBkX4fyz"
      },
      "outputs": [],
      "source": [
        "image_size = 784\n",
        "hidden_size = 256"
      ]
    },
    {
      "cell_type": "code",
      "execution_count": null,
      "metadata": {
        "id": "Nkd6z0mj4h47"
      },
      "outputs": [],
      "source": [
        "D = nn.Sequential(\n",
        "    nn.Linear(image_size, hidden_size),\n",
        "    nn.LeakyReLU(0.2),\n",
        "    nn.Linear(hidden_size, hidden_size),\n",
        "    nn.LeakyReLU(0.2),\n",
        "    nn.Linear(hidden_size, 1),\n",
        "    nn.Sigmoid())"
      ]
    },
    {
      "cell_type": "code",
      "execution_count": null,
      "metadata": {
        "colab": {
          "base_uri": "https://localhost:8080/"
        },
        "id": "7pNNyfCd4nu7",
        "outputId": "cf390de2-8cc5-406c-f35f-f6ffba41f1d2"
      },
      "outputs": [
        {
          "output_type": "execute_result",
          "data": {
            "text/plain": [
              "Sequential(\n",
              "  (0): Linear(in_features=784, out_features=256, bias=True)\n",
              "  (1): LeakyReLU(negative_slope=0.2)\n",
              "  (2): Linear(in_features=256, out_features=256, bias=True)\n",
              "  (3): LeakyReLU(negative_slope=0.2)\n",
              "  (4): Linear(in_features=256, out_features=1, bias=True)\n",
              "  (5): Sigmoid()\n",
              ")"
            ]
          },
          "metadata": {},
          "execution_count": 53
        }
      ],
      "source": [
        "D.to(device)"
      ]
    },
    {
      "cell_type": "code",
      "execution_count": null,
      "metadata": {
        "id": "jhcaAaCo4ucx"
      },
      "outputs": [],
      "source": [
        "latent_size = 64"
      ]
    },
    {
      "cell_type": "code",
      "execution_count": null,
      "metadata": {
        "id": "zFWWU__W_0iV"
      },
      "outputs": [],
      "source": [
        "import torch\n",
        "import torch.nn as nn\n",
        "\n",
        "class Generator(nn.Module):\n",
        "    def __init__(self, z_dim=100, depth=64, p=0.4):\n",
        "        super(Generator, self).__init__()\n",
        "\n",
        "        # First dense layer\n",
        "        self.dense1 = nn.Sequential(\n",
        "            nn.Linear(z_dim, 7*7*64),\n",
        "            nn.BatchNorm1d(7*7*64),\n",
        "            nn.ReLU(),\n",
        "            nn.Dropout(p),\n",
        "        )\n",
        "\n",
        "        # Convolutional layers\n",
        "        self.conv1 = nn.Sequential(\n",
        "            nn.Upsample(scale_factor=2),\n",
        "            nn.ConvTranspose2d(64, int(depth/2), kernel_size=5, padding=2),\n",
        "            nn.BatchNorm2d(int(depth/2)),\n",
        "            nn.ReLU(),\n",
        "        )\n",
        "\n",
        "        self.conv2 = nn.Sequential(\n",
        "            nn.Upsample(scale_factor=2),\n",
        "            nn.ConvTranspose2d(int(depth/2), int(depth/4), kernel_size=5, padding=2),\n",
        "            nn.BatchNorm2d(int(depth/4)),\n",
        "            nn.ReLU(),\n",
        "        )\n",
        "\n",
        "        self.conv3 = nn.Sequential(\n",
        "            nn.ConvTranspose2d(int(depth/4), int(depth/8), kernel_size=5, padding=2),\n",
        "            nn.BatchNorm2d(int(depth/8)),\n",
        "            nn.ReLU(),\n",
        "        )\n",
        "\n",
        "        # Output layer\n",
        "        self.output = nn.Sequential(\n",
        "            nn.Conv2d(int(depth/8), 1, kernel_size=5, padding=2),\n",
        "            nn.Sigmoid()\n",
        "        )\n",
        "\n",
        "    def forward(self, x):\n",
        "        x = self.dense1(x)\n",
        "        x = x.view(-1, 64, 7, 7)  # Reshape to (batch_size, channels, height, width)\n",
        "        x = self.conv1(x)\n",
        "        x = self.conv2(x)\n",
        "        x = self.conv3(x)\n",
        "        output = self.output(x)\n",
        "        return output\n"
      ]
    },
    {
      "cell_type": "code",
      "execution_count": null,
      "metadata": {
        "id": "1wnYi9g7_6Ec"
      },
      "outputs": [],
      "source": [
        "G2 = Generator(z_dim = latent_size)"
      ]
    },
    {
      "cell_type": "code",
      "execution_count": null,
      "metadata": {
        "colab": {
          "base_uri": "https://localhost:8080/",
          "height": 447
        },
        "id": "mBJE21wcATHL",
        "outputId": "52db88c6-e44a-4c68-e107-edf162f2d4ea"
      },
      "outputs": [
        {
          "output_type": "execute_result",
          "data": {
            "text/plain": [
              "<matplotlib.image.AxesImage at 0x7fd277653730>"
            ]
          },
          "metadata": {},
          "execution_count": 57
        },
        {
          "output_type": "display_data",
          "data": {
            "text/plain": [
              "<Figure size 640x480 with 1 Axes>"
            ],
            "image/png": "[encoded data removed]"
          },
          "metadata": {}
        }
      ],
      "source": [
        "y2 = G2(torch.randn(2, latent_size))\n",
        "y2.shape\n",
        "gen_imgs = denorm(y2.reshape((-1, 28,28)).detach())\n",
        "plt.imshow(gen_imgs[0], cmap='gray')\n"
      ]
    },
    {
      "cell_type": "code",
      "execution_count": null,
      "metadata": {
        "id": "kx9JsNu-4wYn"
      },
      "outputs": [],
      "source": [
        "G = nn.Sequential(\n",
        "    nn.Linear(latent_size, hidden_size),\n",
        "    nn.ReLU(),\n",
        "    nn.Linear(hidden_size, hidden_size),\n",
        "    nn.ReLU(),\n",
        "    nn.Linear(hidden_size, image_size),\n",
        "    nn.Tanh())"
      ]
    },
    {
      "cell_type": "code",
      "execution_count": null,
      "metadata": {
        "colab": {
          "base_uri": "https://localhost:8080/"
        },
        "id": "2oek6Kj75pWO",
        "outputId": "3048c417-a4b1-4095-8aaf-b54b3524e0f6"
      },
      "outputs": [
        {
          "output_type": "stream",
          "name": "stdout",
          "text": [
            "torch.Size([2, 784])\n"
          ]
        }
      ],
      "source": [
        "y = G(torch.randn(2, latent_size))\n",
        "print(y.shape)\n",
        "gen_imgs = denorm(y.reshape((-1, 28,28)).detach())"
      ]
    },
    {
      "cell_type": "code",
      "execution_count": null,
      "metadata": {
        "colab": {
          "base_uri": "https://localhost:8080/",
          "height": 447
        },
        "id": "H796b8td5rl2",
        "outputId": "65a4db35-2d90-4431-df99-40a88572bb4e"
      },
      "outputs": [
        {
          "output_type": "execute_result",
          "data": {
            "text/plain": [
              "<matplotlib.image.AxesImage at 0x7fd26e5ee710>"
            ]
          },
          "metadata": {},
          "execution_count": 60
        },
        {
          "output_type": "display_data",
          "data": {
            "text/plain": [
              "<Figure size 640x480 with 1 Axes>"
            ],
            "image/png": "[encoded data removed]"
          },
          "metadata": {}
        }
      ],
      "source": [
        "plt.imshow(gen_imgs[0], cmap='gray')"
      ]
    },
    {
      "cell_type": "code",
      "execution_count": null,
      "metadata": {
        "colab": {
          "base_uri": "https://localhost:8080/"
        },
        "id": "lOsOyVZ85xn_",
        "outputId": "fdbc6f1b-2d9f-474e-ce22-e18167464451"
      },
      "outputs": [
        {
          "output_type": "execute_result",
          "data": {
            "text/plain": [
              "Sequential(\n",
              "  (0): Linear(in_features=64, out_features=256, bias=True)\n",
              "  (1): ReLU()\n",
              "  (2): Linear(in_features=256, out_features=256, bias=True)\n",
              "  (3): ReLU()\n",
              "  (4): Linear(in_features=256, out_features=784, bias=True)\n",
              "  (5): Tanh()\n",
              ")"
            ]
          },
          "metadata": {},
          "execution_count": 61
        }
      ],
      "source": [
        "G.to(device)"
      ]
    },
    {
      "cell_type": "code",
      "execution_count": null,
      "metadata": {
        "id": "PKbXkm2P52Yv"
      },
      "outputs": [],
      "source": [
        "criterion = nn.BCELoss()\n",
        "d_optimizer = torch.optim.Adam(D.parameters(), lr=0.0002)"
      ]
    },
    {
      "cell_type": "code",
      "execution_count": null,
      "metadata": {
        "id": "MdqbKqFy54og",
        "colab": {
          "base_uri": "https://localhost:8080/",
          "height": 106
        },
        "outputId": "168f41bf-9d45-4cd2-9e6b-3d73498fc394"
      },
      "outputs": [
        {
          "output_type": "error",
          "ename": "SyntaxError",
          "evalue": "invalid syntax (<ipython-input-63-e7b400e0cb28>, line 15)",
          "traceback": [
            "\u001b[0;36m  File \u001b[0;32m\"<ipython-input-63-e7b400e0cb28>\"\u001b[0;36m, line \u001b[0;32m15\u001b[0m\n\u001b[0;31m    Loss for fake images\u001b[0m\n\u001b[0m         ^\u001b[0m\n\u001b[0;31mSyntaxError\u001b[0m\u001b[0;31m:\u001b[0m invalid syntax\n"
          ]
        }
      ],
      "source": [
        "def reset_grad():\n",
        "    d_optimizer.zero_grad()\n",
        "    g_optimizer.zero_grad()\n",
        "\n",
        "def train_discriminator(images):\n",
        "    # Create the labels which are later used as input for the BCE loss\n",
        "    real_labels = torch.ones(batch_size, 1).to(device)\n",
        "    fake_labels = torch.zeros(batch_size, 1).to(device)\n",
        "\n",
        "    # Loss for real images\n",
        "    outputs = D2(images)\n",
        "    d_loss_real = criterion(outputs, real_labels)\n",
        "    real_score = outputs\n",
        "\n",
        "    # Loss for fake images\n",
        "    z = torch.randn(batch_size, latent_size).to(device)\n",
        "    fake_images = G2(z)\n",
        "    outputs = D2(fake_images)\n",
        "    d_loss_fake = criterion(outputs, fake_labels)\n",
        "    fake_score = outputs\n",
        "\n",
        "    # Combine losses\n",
        "    d_loss = d_loss_real + d_loss_fake\n",
        "    # Reset gradients\n",
        "    reset_grad()\n",
        "    # Compute gradients\n",
        "    d_loss.backward()\n",
        "    # Adjust the parameters using backprop\n",
        "    d_optimizer.step()\n",
        "\n",
        "    return d_loss, real_score, fake_score"
      ]
    },
    {
      "cell_type": "code",
      "execution_count": null,
      "metadata": {
        "id": "JgHaKdbj58vP"
      },
      "outputs": [],
      "source": [
        "g_optimizer = torch.optim.Adam(G.parameters(), lr=0.0002)"
      ]
    },
    {
      "cell_type": "code",
      "execution_count": null,
      "metadata": {
        "id": "3StilsMW5-m_"
      },
      "outputs": [],
      "source": [
        "def train_generator():\n",
        "    # Generate fake images and calculate loss\n",
        "    z = torch.randn(batch_size, latent_size).to(device)\n",
        "    fake_images = G2(z)\n",
        "    labels = torch.ones(batch_size, 1).to(device)\n",
        "    g_loss = criterion(D2(fake_images), labels)\n",
        "\n",
        "    # Backprop and optimize\n",
        "    reset_grad()\n",
        "    g_loss.backward()\n",
        "    g_optimizer.step()\n",
        "    return g_loss, fake_images"
      ]
    },
    {
      "cell_type": "code",
      "execution_count": null,
      "metadata": {
        "id": "TOUpgUra6Hnf"
      },
      "outputs": [],
      "source": [
        "sample_dir = 'samples'\n",
        "if not os.path.exists(sample_dir):\n",
        "    os.makedirs(sample_dir)"
      ]
    },
    {
      "cell_type": "code",
      "execution_count": null,
      "metadata": {
        "id": "k9IkJJ_-6KJ7"
      },
      "outputs": [],
      "source": [
        "# Save some real images\n",
        "for images, _ in data_loader:\n",
        "    images = images.reshape(images.size(0), 1, 28, 28)\n",
        "    save_image(denorm(images), os.path.join(sample_dir, 'real_images.png'), nrow=10)\n",
        "    break\n",
        "\n",
        "Image(os.path.join(sample_dir, 'real_images.png'))"
      ]
    },
    {
      "cell_type": "code",
      "execution_count": null,
      "metadata": {
        "id": "-oU1ZKhL6P-z"
      },
      "outputs": [],
      "source": [
        "sample_vectors = torch.randn(batch_size, latent_size).to(device)\n",
        "\n",
        "def save_fake_images(index):\n",
        "    fake_images = G2(sample_vectors)\n",
        "    fake_images = fake_images.reshape(fake_images.size(0), 1, 28, 28)\n",
        "    fake_fname = 'fake_images-{0:0=4d}.png'.format(index)\n",
        "    print('Saving', fake_fname)\n",
        "    save_image(denorm(fake_images), os.path.join(sample_dir, fake_fname), nrow=10)\n",
        "\n",
        "# Before training\n",
        "save_fake_images(0)\n",
        "Image(os.path.join(sample_dir, 'fake_images-0000.png'))"
      ]
    },
    {
      "cell_type": "code",
      "execution_count": null,
      "metadata": {
        "id": "-Sb4gOoT6S37"
      },
      "outputs": [],
      "source": [
        "%%time\n",
        "\n",
        "num_epochs = 300\n",
        "total_step = len(data_loader)\n",
        "d_losses, g_losses, real_scores, fake_scores = [], [], [], []\n",
        "\n",
        "for epoch in range(num_epochs):\n",
        "    for i, (images, _) in enumerate(data_loader):\n",
        "        # Load a batch & transform to vectors\n",
        "        # images = images.reshape(batch_size, -1).to(device)\n",
        "        images.to(device)\n",
        "\n",
        "        # Train the discriminator and generator\n",
        "        # print(images.shape)\n",
        "        d_loss, real_score, fake_score = train_discriminator(images)\n",
        "        g_loss, fake_images = train_generator()\n",
        "\n",
        "        # Inspect the losses\n",
        "        if (i+1) % 200 == 0:\n",
        "            d_losses.append(d_loss.item())\n",
        "            g_losses.append(g_loss.item())\n",
        "            real_scores.append(real_score.mean().item())\n",
        "            fake_scores.append(fake_score.mean().item())\n",
        "            print('Epoch [{}/{}], Step [{}/{}], d_loss: {:.4f}, g_loss: {:.4f}, D(x): {:.2f}, D(G(z)): {:.2f}'\n",
        "                  .format(epoch, num_epochs, i+1, total_step, d_loss.item(), g_loss.item(),\n",
        "                          real_score.mean().item(), fake_score.mean().item()))\n",
        "\n",
        "    # Sample and save images\n",
        "    save_fake_images(epoch+1)"
      ]
    },
    {
      "cell_type": "code",
      "execution_count": null,
      "metadata": {
        "id": "Bu6eR55a7GYv"
      },
      "outputs": [],
      "source": [
        "for i, (images, _) in enumerate(data_loader):\n",
        "    # Load a batch & transform to vectors\n",
        "    # images = images.reshape(batch_size, -1).to(device)\n",
        "\n",
        "    # Train the discriminator and generator\n",
        "    print(images.shape)\n",
        "    l1 = nn.Conv2d(1, depth*1, kernel_size=5, stride=2, padding=2)\n",
        "    conv_layers = nn.Sequential(\n",
        "            nn.Conv2d(1, depth*1, kernel_size=5, stride=2, padding=2),\n",
        "            nn.ReLU(),\n",
        "            nn.Dropout(p),\n",
        "            nn.Conv2d(depth*1, depth*2, kernel_size=5, stride=2, padding=2),\n",
        "            nn.ReLU(),\n",
        "            nn.Dropout(p),\n",
        "            nn.Conv2d(depth*2, depth*4, kernel_size=5, stride=2, padding=2),\n",
        "            nn.ReLU(),\n",
        "            nn.Dropout(p),\n",
        "            nn.Conv2d(depth*4, depth*8, kernel_size=5, stride=1, padding=2),\n",
        "            nn.ReLU(),\n",
        "            nn.Dropout(p),\n",
        "            nn.Flatten()\n",
        "        )\n",
        "    output_layer = nn.Sequential(\n",
        "            nn.Linear(8192, 1),\n",
        "            nn.Sigmoid()\n",
        "        )\n",
        "    # o = conv_layers(images)\n",
        "    # o2 = output_layer(o)\n",
        "    # print(o2.shape,\"1!!!\")\n",
        "    d_loss, real_score, fake_score = train_discriminator(images)\n",
        "    # print(d_loss, real_score.shape, fake_score.shape)"
      ]
    },
    {
      "cell_type": "code",
      "execution_count": null,
      "metadata": {
        "id": "MJuIMgHPDpWO"
      },
      "outputs": [],
      "source": [
        "plt.plot(d_losses, '-')\n",
        "plt.plot(g_losses, '-')\n",
        "plt.xlabel('epoch')\n",
        "plt.ylabel('loss')\n",
        "plt.legend(['Discriminator', 'Generator'])\n",
        "plt.title('Losses');"
      ]
    },
    {
      "cell_type": "code",
      "execution_count": null,
      "metadata": {
        "id": "qhcx_59g6Z__"
      },
      "outputs": [],
      "source": [
        "Image('./samples/fake_images-0300.png')"
      ]
    }
  ],
  "metadata": {
    "accelerator": "GPU",
    "colab": {
      "gpuType": "T4",
      "provenance": [],
      "authorship_tag": "ABX9TyOMcRiPMu+OcxyLDBBiEfh5",
      "include_colab_link": true
    },
    "kernelspec": {
      "display_name": "Python 3",
      "name": "python3"
    },
    "language_info": {
      "name": "python"
    }
  },
  "nbformat": 4,
  "nbformat_minor": 0
}