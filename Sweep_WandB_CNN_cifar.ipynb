{
  "nbformat": 4,
  "nbformat_minor": 0,
  "metadata": {
    "colab": {
      "provenance": [],
      "gpuType": "T4",
      "authorship_tag": "ABX9TyMTMsFQ1xJCqHlP+poQTq9f",
      "include_colab_link": true
    },
    "kernelspec": {
      "name": "python3",
      "display_name": "Python 3"
    },
    "language_info": {
      "name": "python"
    },
    "accelerator": "GPU",
    "widgets": {
      "application/vnd.jupyter.widget-state+json": {
        "137366060e23435685d0ac9989d12955": {
          "model_module": "@jupyter-widgets/controls",
          "model_name": "VBoxModel",
          "model_module_version": "1.5.0",
          "state": {
            "_dom_classes": [],
            "_model_module": "@jupyter-widgets/controls",
            "_model_module_version": "1.5.0",
            "_model_name": "VBoxModel",
            "_view_count": null,
            "_view_module": "@jupyter-widgets/controls",
            "_view_module_version": "1.5.0",
            "_view_name": "VBoxView",
            "box_style": "",
            "children": [
              "IPY_MODEL_a02641ee72f54417a30d4b862c26158d",
              "IPY_MODEL_034b2eb652d44709bc9da0e2832a2078"
            ],
            "layout": "IPY_MODEL_6051f2cade7e4e96b1f15c3a0cfc9598"
          }
        },
        "a02641ee72f54417a30d4b862c26158d": {
          "model_module": "@jupyter-widgets/controls",
          "model_name": "LabelModel",
          "model_module_version": "1.5.0",
          "state": {
            "_dom_classes": [],
            "_model_module": "@jupyter-widgets/controls",
            "_model_module_version": "1.5.0",
            "_model_name": "LabelModel",
            "_view_count": null,
            "_view_module": "@jupyter-widgets/controls",
            "_view_module_version": "1.5.0",
            "_view_name": "LabelView",
            "description": "",
            "description_tooltip": null,
            "layout": "IPY_MODEL_c8d4cf2a10534c24afe3317c0f36d167",
            "placeholder": "​",
            "style": "IPY_MODEL_3fb527a475a140e9b3239a763d58e576",
            "value": "0.011 MB of 0.011 MB uploaded\r"
          }
        },
        "034b2eb652d44709bc9da0e2832a2078": {
          "model_module": "@jupyter-widgets/controls",
          "model_name": "FloatProgressModel",
          "model_module_version": "1.5.0",
          "state": {
            "_dom_classes": [],
            "_model_module": "@jupyter-widgets/controls",
            "_model_module_version": "1.5.0",
            "_model_name": "FloatProgressModel",
            "_view_count": null,
            "_view_module": "@jupyter-widgets/controls",
            "_view_module_version": "1.5.0",
            "_view_name": "ProgressView",
            "bar_style": "",
            "description": "",
            "description_tooltip": null,
            "layout": "IPY_MODEL_88cc05b7416d4cedbae095b4751aac6a",
            "max": 1,
            "min": 0,
            "orientation": "horizontal",
            "style": "IPY_MODEL_5c67e77071f04a698f622930221c7688",
            "value": 1
          }
        },
        "6051f2cade7e4e96b1f15c3a0cfc9598": {
          "model_module": "@jupyter-widgets/base",
          "model_name": "LayoutModel",
          "model_module_version": "1.2.0",
          "state": {
            "_model_module": "@jupyter-widgets/base",
            "_model_module_version": "1.2.0",
            "_model_name": "LayoutModel",
            "_view_count": null,
            "_view_module": "@jupyter-widgets/base",
            "_view_module_version": "1.2.0",
            "_view_name": "LayoutView",
            "align_content": null,
            "align_items": null,
            "align_self": null,
            "border": null,
            "bottom": null,
            "display": null,
            "flex": null,
            "flex_flow": null,
            "grid_area": null,
            "grid_auto_columns": null,
            "grid_auto_flow": null,
            "grid_auto_rows": null,
            "grid_column": null,
            "grid_gap": null,
            "grid_row": null,
            "grid_template_areas": null,
            "grid_template_columns": null,
            "grid_template_rows": null,
            "height": null,
            "justify_content": null,
            "justify_items": null,
            "left": null,
            "margin": null,
            "max_height": null,
            "max_width": null,
            "min_height": null,
            "min_width": null,
            "object_fit": null,
            "object_position": null,
            "order": null,
            "overflow": null,
            "overflow_x": null,
            "overflow_y": null,
            "padding": null,
            "right": null,
            "top": null,
            "visibility": null,
            "width": null
          }
        },
        "c8d4cf2a10534c24afe3317c0f36d167": {
          "model_module": "@jupyter-widgets/base",
          "model_name": "LayoutModel",
          "model_module_version": "1.2.0",
          "state": {
            "_model_module": "@jupyter-widgets/base",
            "_model_module_version": "1.2.0",
            "_model_name": "LayoutModel",
            "_view_count": null,
            "_view_module": "@jupyter-widgets/base",
            "_view_module_version": "1.2.0",
            "_view_name": "LayoutView",
            "align_content": null,
            "align_items": null,
            "align_self": null,
            "border": null,
            "bottom": null,
            "display": null,
            "flex": null,
            "flex_flow": null,
            "grid_area": null,
            "grid_auto_columns": null,
            "grid_auto_flow": null,
            "grid_auto_rows": null,
            "grid_column": null,
            "grid_gap": null,
            "grid_row": null,
            "grid_template_areas": null,
            "grid_template_columns": null,
            "grid_template_rows": null,
            "height": null,
            "justify_content": null,
            "justify_items": null,
            "left": null,
            "margin": null,
            "max_height": null,
            "max_width": null,
            "min_height": null,
            "min_width": null,
            "object_fit": null,
            "object_position": null,
            "order": null,
            "overflow": null,
            "overflow_x": null,
            "overflow_y": null,
            "padding": null,
            "right": null,
            "top": null,
            "visibility": null,
            "width": null
          }
        },
        "3fb527a475a140e9b3239a763d58e576": {
          "model_module": "@jupyter-widgets/controls",
          "model_name": "DescriptionStyleModel",
          "model_module_version": "1.5.0",
          "state": {
            "_model_module": "@jupyter-widgets/controls",
            "_model_module_version": "1.5.0",
            "_model_name": "DescriptionStyleModel",
            "_view_count": null,
            "_view_module": "@jupyter-widgets/base",
            "_view_module_version": "1.2.0",
            "_view_name": "StyleView",
            "description_width": ""
          }
        },
        "88cc05b7416d4cedbae095b4751aac6a": {
          "model_module": "@jupyter-widgets/base",
          "model_name": "LayoutModel",
          "model_module_version": "1.2.0",
          "state": {
            "_model_module": "@jupyter-widgets/base",
            "_model_module_version": "1.2.0",
            "_model_name": "LayoutModel",
            "_view_count": null,
            "_view_module": "@jupyter-widgets/base",
            "_view_module_version": "1.2.0",
            "_view_name": "LayoutView",
            "align_content": null,
            "align_items": null,
            "align_self": null,
            "border": null,
            "bottom": null,
            "display": null,
            "flex": null,
            "flex_flow": null,
            "grid_area": null,
            "grid_auto_columns": null,
            "grid_auto_flow": null,
            "grid_auto_rows": null,
            "grid_column": null,
            "grid_gap": null,
            "grid_row": null,
            "grid_template_areas": null,
            "grid_template_columns": null,
            "grid_template_rows": null,
            "height": null,
            "justify_content": null,
            "justify_items": null,
            "left": null,
            "margin": null,
            "max_height": null,
            "max_width": null,
            "min_height": null,
            "min_width": null,
            "object_fit": null,
            "object_position": null,
            "order": null,
            "overflow": null,
            "overflow_x": null,
            "overflow_y": null,
            "padding": null,
            "right": null,
            "top": null,
            "visibility": null,
            "width": null
          }
        },
        "5c67e77071f04a698f622930221c7688": {
          "model_module": "@jupyter-widgets/controls",
          "model_name": "ProgressStyleModel",
          "model_module_version": "1.5.0",
          "state": {
            "_model_module": "@jupyter-widgets/controls",
            "_model_module_version": "1.5.0",
            "_model_name": "ProgressStyleModel",
            "_view_count": null,
            "_view_module": "@jupyter-widgets/base",
            "_view_module_version": "1.2.0",
            "_view_name": "StyleView",
            "bar_color": null,
            "description_width": ""
          }
        },
        "f75c15b0ec144568b6b7b1396b1ec891": {
          "model_module": "@jupyter-widgets/controls",
          "model_name": "VBoxModel",
          "model_module_version": "1.5.0",
          "state": {
            "_dom_classes": [],
            "_model_module": "@jupyter-widgets/controls",
            "_model_module_version": "1.5.0",
            "_model_name": "VBoxModel",
            "_view_count": null,
            "_view_module": "@jupyter-widgets/controls",
            "_view_module_version": "1.5.0",
            "_view_name": "VBoxView",
            "box_style": "",
            "children": [
              "IPY_MODEL_a711f463192246fbab528cbf74d9b107",
              "IPY_MODEL_0dabce0ab6f743ddb0fba9e04e0ac5e0"
            ],
            "layout": "IPY_MODEL_fb783d0c144a4f6f90e2448db05d9f5a"
          }
        },
        "a711f463192246fbab528cbf74d9b107": {
          "model_module": "@jupyter-widgets/controls",
          "model_name": "LabelModel",
          "model_module_version": "1.5.0",
          "state": {
            "_dom_classes": [],
            "_model_module": "@jupyter-widgets/controls",
            "_model_module_version": "1.5.0",
            "_model_name": "LabelModel",
            "_view_count": null,
            "_view_module": "@jupyter-widgets/controls",
            "_view_module_version": "1.5.0",
            "_view_name": "LabelView",
            "description": "",
            "description_tooltip": null,
            "layout": "IPY_MODEL_48390901148a421a89c612c12fab7027",
            "placeholder": "​",
            "style": "IPY_MODEL_4a7c93e7b2cb4b1981bd5ccf97b0e9df",
            "value": "0.011 MB of 0.011 MB uploaded\r"
          }
        },
        "0dabce0ab6f743ddb0fba9e04e0ac5e0": {
          "model_module": "@jupyter-widgets/controls",
          "model_name": "FloatProgressModel",
          "model_module_version": "1.5.0",
          "state": {
            "_dom_classes": [],
            "_model_module": "@jupyter-widgets/controls",
            "_model_module_version": "1.5.0",
            "_model_name": "FloatProgressModel",
            "_view_count": null,
            "_view_module": "@jupyter-widgets/controls",
            "_view_module_version": "1.5.0",
            "_view_name": "ProgressView",
            "bar_style": "",
            "description": "",
            "description_tooltip": null,
            "layout": "IPY_MODEL_88e837c313b14c5785788a0687004d4f",
            "max": 1,
            "min": 0,
            "orientation": "horizontal",
            "style": "IPY_MODEL_fffedeab11b842ac977f468c412d313e",
            "value": 1
          }
        },
        "fb783d0c144a4f6f90e2448db05d9f5a": {
          "model_module": "@jupyter-widgets/base",
          "model_name": "LayoutModel",
          "model_module_version": "1.2.0",
          "state": {
            "_model_module": "@jupyter-widgets/base",
            "_model_module_version": "1.2.0",
            "_model_name": "LayoutModel",
            "_view_count": null,
            "_view_module": "@jupyter-widgets/base",
            "_view_module_version": "1.2.0",
            "_view_name": "LayoutView",
            "align_content": null,
            "align_items": null,
            "align_self": null,
            "border": null,
            "bottom": null,
            "display": null,
            "flex": null,
            "flex_flow": null,
            "grid_area": null,
            "grid_auto_columns": null,
            "grid_auto_flow": null,
            "grid_auto_rows": null,
            "grid_column": null,
            "grid_gap": null,
            "grid_row": null,
            "grid_template_areas": null,
            "grid_template_columns": null,
            "grid_template_rows": null,
            "height": null,
            "justify_content": null,
            "justify_items": null,
            "left": null,
            "margin": null,
            "max_height": null,
            "max_width": null,
            "min_height": null,
            "min_width": null,
            "object_fit": null,
            "object_position": null,
            "order": null,
            "overflow": null,
            "overflow_x": null,
            "overflow_y": null,
            "padding": null,
            "right": null,
            "top": null,
            "visibility": null,
            "width": null
          }
        },
        "48390901148a421a89c612c12fab7027": {
          "model_module": "@jupyter-widgets/base",
          "model_name": "LayoutModel",
          "model_module_version": "1.2.0",
          "state": {
            "_model_module": "@jupyter-widgets/base",
            "_model_module_version": "1.2.0",
            "_model_name": "LayoutModel",
            "_view_count": null,
            "_view_module": "@jupyter-widgets/base",
            "_view_module_version": "1.2.0",
            "_view_name": "LayoutView",
            "align_content": null,
            "align_items": null,
            "align_self": null,
            "border": null,
            "bottom": null,
            "display": null,
            "flex": null,
            "flex_flow": null,
            "grid_area": null,
            "grid_auto_columns": null,
            "grid_auto_flow": null,
            "grid_auto_rows": null,
            "grid_column": null,
            "grid_gap": null,
            "grid_row": null,
            "grid_template_areas": null,
            "grid_template_columns": null,
            "grid_template_rows": null,
            "height": null,
            "justify_content": null,
            "justify_items": null,
            "left": null,
            "margin": null,
            "max_height": null,
            "max_width": null,
            "min_height": null,
            "min_width": null,
            "object_fit": null,
            "object_position": null,
            "order": null,
            "overflow": null,
            "overflow_x": null,
            "overflow_y": null,
            "padding": null,
            "right": null,
            "top": null,
            "visibility": null,
            "width": null
          }
        },
        "4a7c93e7b2cb4b1981bd5ccf97b0e9df": {
          "model_module": "@jupyter-widgets/controls",
          "model_name": "DescriptionStyleModel",
          "model_module_version": "1.5.0",
          "state": {
            "_model_module": "@jupyter-widgets/controls",
            "_model_module_version": "1.5.0",
            "_model_name": "DescriptionStyleModel",
            "_view_count": null,
            "_view_module": "@jupyter-widgets/base",
            "_view_module_version": "1.2.0",
            "_view_name": "StyleView",
            "description_width": ""
          }
        },
        "88e837c313b14c5785788a0687004d4f": {
          "model_module": "@jupyter-widgets/base",
          "model_name": "LayoutModel",
          "model_module_version": "1.2.0",
          "state": {
            "_model_module": "@jupyter-widgets/base",
            "_model_module_version": "1.2.0",
            "_model_name": "LayoutModel",
            "_view_count": null,
            "_view_module": "@jupyter-widgets/base",
            "_view_module_version": "1.2.0",
            "_view_name": "LayoutView",
            "align_content": null,
            "align_items": null,
            "align_self": null,
            "border": null,
            "bottom": null,
            "display": null,
            "flex": null,
            "flex_flow": null,
            "grid_area": null,
            "grid_auto_columns": null,
            "grid_auto_flow": null,
            "grid_auto_rows": null,
            "grid_column": null,
            "grid_gap": null,
            "grid_row": null,
            "grid_template_areas": null,
            "grid_template_columns": null,
            "grid_template_rows": null,
            "height": null,
            "justify_content": null,
            "justify_items": null,
            "left": null,
            "margin": null,
            "max_height": null,
            "max_width": null,
            "min_height": null,
            "min_width": null,
            "object_fit": null,
            "object_position": null,
            "order": null,
            "overflow": null,
            "overflow_x": null,
            "overflow_y": null,
            "padding": null,
            "right": null,
            "top": null,
            "visibility": null,
            "width": null
          }
        },
        "fffedeab11b842ac977f468c412d313e": {
          "model_module": "@jupyter-widgets/controls",
          "model_name": "ProgressStyleModel",
          "model_module_version": "1.5.0",
          "state": {
            "_model_module": "@jupyter-widgets/controls",
            "_model_module_version": "1.5.0",
            "_model_name": "ProgressStyleModel",
            "_view_count": null,
            "_view_module": "@jupyter-widgets/base",
            "_view_module_version": "1.2.0",
            "_view_name": "StyleView",
            "bar_color": null,
            "description_width": ""
          }
        },
        "6b3e98d5ae4b47b89f5f1be8cf966626": {
          "model_module": "@jupyter-widgets/controls",
          "model_name": "VBoxModel",
          "model_module_version": "1.5.0",
          "state": {
            "_dom_classes": [],
            "_model_module": "@jupyter-widgets/controls",
            "_model_module_version": "1.5.0",
            "_model_name": "VBoxModel",
            "_view_count": null,
            "_view_module": "@jupyter-widgets/controls",
            "_view_module_version": "1.5.0",
            "_view_name": "VBoxView",
            "box_style": "",
            "children": [
              "IPY_MODEL_2bbe7e4e3a1b4db59cb223d26863006f",
              "IPY_MODEL_1fd47b7cdaa44f6a90dc7b095a1a0a29"
            ],
            "layout": "IPY_MODEL_cc30bfc77d7e4f19b6411fcecbedd022"
          }
        },
        "2bbe7e4e3a1b4db59cb223d26863006f": {
          "model_module": "@jupyter-widgets/controls",
          "model_name": "LabelModel",
          "model_module_version": "1.5.0",
          "state": {
            "_dom_classes": [],
            "_model_module": "@jupyter-widgets/controls",
            "_model_module_version": "1.5.0",
            "_model_name": "LabelModel",
            "_view_count": null,
            "_view_module": "@jupyter-widgets/controls",
            "_view_module_version": "1.5.0",
            "_view_name": "LabelView",
            "description": "",
            "description_tooltip": null,
            "layout": "IPY_MODEL_ba43ea14e167406f943105febb7ca7b5",
            "placeholder": "​",
            "style": "IPY_MODEL_0fbf0039109146bb83e2764dcfb9626b",
            "value": "0.012 MB of 0.012 MB uploaded\r"
          }
        },
        "1fd47b7cdaa44f6a90dc7b095a1a0a29": {
          "model_module": "@jupyter-widgets/controls",
          "model_name": "FloatProgressModel",
          "model_module_version": "1.5.0",
          "state": {
            "_dom_classes": [],
            "_model_module": "@jupyter-widgets/controls",
            "_model_module_version": "1.5.0",
            "_model_name": "FloatProgressModel",
            "_view_count": null,
            "_view_module": "@jupyter-widgets/controls",
            "_view_module_version": "1.5.0",
            "_view_name": "ProgressView",
            "bar_style": "",
            "description": "",
            "description_tooltip": null,
            "layout": "IPY_MODEL_2a3e68657ec64ae689fa1a550391d9b1",
            "max": 1,
            "min": 0,
            "orientation": "horizontal",
            "style": "IPY_MODEL_93973390e95441d694e4660008238eb5",
            "value": 1
          }
        },
        "cc30bfc77d7e4f19b6411fcecbedd022": {
          "model_module": "@jupyter-widgets/base",
          "model_name": "LayoutModel",
          "model_module_version": "1.2.0",
          "state": {
            "_model_module": "@jupyter-widgets/base",
            "_model_module_version": "1.2.0",
            "_model_name": "LayoutModel",
            "_view_count": null,
            "_view_module": "@jupyter-widgets/base",
            "_view_module_version": "1.2.0",
            "_view_name": "LayoutView",
            "align_content": null,
            "align_items": null,
            "align_self": null,
            "border": null,
            "bottom": null,
            "display": null,
            "flex": null,
            "flex_flow": null,
            "grid_area": null,
            "grid_auto_columns": null,
            "grid_auto_flow": null,
            "grid_auto_rows": null,
            "grid_column": null,
            "grid_gap": null,
            "grid_row": null,
            "grid_template_areas": null,
            "grid_template_columns": null,
            "grid_template_rows": null,
            "height": null,
            "justify_content": null,
            "justify_items": null,
            "left": null,
            "margin": null,
            "max_height": null,
            "max_width": null,
            "min_height": null,
            "min_width": null,
            "object_fit": null,
            "object_position": null,
            "order": null,
            "overflow": null,
            "overflow_x": null,
            "overflow_y": null,
            "padding": null,
            "right": null,
            "top": null,
            "visibility": null,
            "width": null
          }
        },
        "ba43ea14e167406f943105febb7ca7b5": {
          "model_module": "@jupyter-widgets/base",
          "model_name": "LayoutModel",
          "model_module_version": "1.2.0",
          "state": {
            "_model_module": "@jupyter-widgets/base",
            "_model_module_version": "1.2.0",
            "_model_name": "LayoutModel",
            "_view_count": null,
            "_view_module": "@jupyter-widgets/base",
            "_view_module_version": "1.2.0",
            "_view_name": "LayoutView",
            "align_content": null,
            "align_items": null,
            "align_self": null,
            "border": null,
            "bottom": null,
            "display": null,
            "flex": null,
            "flex_flow": null,
            "grid_area": null,
            "grid_auto_columns": null,
            "grid_auto_flow": null,
            "grid_auto_rows": null,
            "grid_column": null,
            "grid_gap": null,
            "grid_row": null,
            "grid_template_areas": null,
            "grid_template_columns": null,
            "grid_template_rows": null,
            "height": null,
            "justify_content": null,
            "justify_items": null,
            "left": null,
            "margin": null,
            "max_height": null,
            "max_width": null,
            "min_height": null,
            "min_width": null,
            "object_fit": null,
            "object_position": null,
            "order": null,
            "overflow": null,
            "overflow_x": null,
            "overflow_y": null,
            "padding": null,
            "right": null,
            "top": null,
            "visibility": null,
            "width": null
          }
        },
        "0fbf0039109146bb83e2764dcfb9626b": {
          "model_module": "@jupyter-widgets/controls",
          "model_name": "DescriptionStyleModel",
          "model_module_version": "1.5.0",
          "state": {
            "_model_module": "@jupyter-widgets/controls",
            "_model_module_version": "1.5.0",
            "_model_name": "DescriptionStyleModel",
            "_view_count": null,
            "_view_module": "@jupyter-widgets/base",
            "_view_module_version": "1.2.0",
            "_view_name": "StyleView",
            "description_width": ""
          }
        },
        "2a3e68657ec64ae689fa1a550391d9b1": {
          "model_module": "@jupyter-widgets/base",
          "model_name": "LayoutModel",
          "model_module_version": "1.2.0",
          "state": {
            "_model_module": "@jupyter-widgets/base",
            "_model_module_version": "1.2.0",
            "_model_name": "LayoutModel",
            "_view_count": null,
            "_view_module": "@jupyter-widgets/base",
            "_view_module_version": "1.2.0",
            "_view_name": "LayoutView",
            "align_content": null,
            "align_items": null,
            "align_self": null,
            "border": null,
            "bottom": null,
            "display": null,
            "flex": null,
            "flex_flow": null,
            "grid_area": null,
            "grid_auto_columns": null,
            "grid_auto_flow": null,
            "grid_auto_rows": null,
            "grid_column": null,
            "grid_gap": null,
            "grid_row": null,
            "grid_template_areas": null,
            "grid_template_columns": null,
            "grid_template_rows": null,
            "height": null,
            "justify_content": null,
            "justify_items": null,
            "left": null,
            "margin": null,
            "max_height": null,
            "max_width": null,
            "min_height": null,
            "min_width": null,
            "object_fit": null,
            "object_position": null,
            "order": null,
            "overflow": null,
            "overflow_x": null,
            "overflow_y": null,
            "padding": null,
            "right": null,
            "top": null,
            "visibility": null,
            "width": null
          }
        },
        "93973390e95441d694e4660008238eb5": {
          "model_module": "@jupyter-widgets/controls",
          "model_name": "ProgressStyleModel",
          "model_module_version": "1.5.0",
          "state": {
            "_model_module": "@jupyter-widgets/controls",
            "_model_module_version": "1.5.0",
            "_model_name": "ProgressStyleModel",
            "_view_count": null,
            "_view_module": "@jupyter-widgets/base",
            "_view_module_version": "1.2.0",
            "_view_name": "StyleView",
            "bar_color": null,
            "description_width": ""
          }
        },
        "f0f08913d333471ebc2c2af85d9866d4": {
          "model_module": "@jupyter-widgets/controls",
          "model_name": "VBoxModel",
          "model_module_version": "1.5.0",
          "state": {
            "_dom_classes": [],
            "_model_module": "@jupyter-widgets/controls",
            "_model_module_version": "1.5.0",
            "_model_name": "VBoxModel",
            "_view_count": null,
            "_view_module": "@jupyter-widgets/controls",
            "_view_module_version": "1.5.0",
            "_view_name": "VBoxView",
            "box_style": "",
            "children": [
              "IPY_MODEL_9f33133428544ec4ba848b8f65454cf8",
              "IPY_MODEL_21e76d0239f942768b57305e43a6805e"
            ],
            "layout": "IPY_MODEL_2584ffa049444ee2a63df368492549cd"
          }
        },
        "9f33133428544ec4ba848b8f65454cf8": {
          "model_module": "@jupyter-widgets/controls",
          "model_name": "LabelModel",
          "model_module_version": "1.5.0",
          "state": {
            "_dom_classes": [],
            "_model_module": "@jupyter-widgets/controls",
            "_model_module_version": "1.5.0",
            "_model_name": "LabelModel",
            "_view_count": null,
            "_view_module": "@jupyter-widgets/controls",
            "_view_module_version": "1.5.0",
            "_view_name": "LabelView",
            "description": "",
            "description_tooltip": null,
            "layout": "IPY_MODEL_b0ea6a0e97154ae2ba17855e544e838b",
            "placeholder": "​",
            "style": "IPY_MODEL_36ade23b89ec4e0b817ef1992d419cba",
            "value": "0.012 MB of 0.012 MB uploaded\r"
          }
        },
        "21e76d0239f942768b57305e43a6805e": {
          "model_module": "@jupyter-widgets/controls",
          "model_name": "FloatProgressModel",
          "model_module_version": "1.5.0",
          "state": {
            "_dom_classes": [],
            "_model_module": "@jupyter-widgets/controls",
            "_model_module_version": "1.5.0",
            "_model_name": "FloatProgressModel",
            "_view_count": null,
            "_view_module": "@jupyter-widgets/controls",
            "_view_module_version": "1.5.0",
            "_view_name": "ProgressView",
            "bar_style": "",
            "description": "",
            "description_tooltip": null,
            "layout": "IPY_MODEL_faf030319ab14190918c6fefd52133d8",
            "max": 1,
            "min": 0,
            "orientation": "horizontal",
            "style": "IPY_MODEL_f248e1ac377f4aca80b18ca7941b579e",
            "value": 1
          }
        },
        "2584ffa049444ee2a63df368492549cd": {
          "model_module": "@jupyter-widgets/base",
          "model_name": "LayoutModel",
          "model_module_version": "1.2.0",
          "state": {
            "_model_module": "@jupyter-widgets/base",
            "_model_module_version": "1.2.0",
            "_model_name": "LayoutModel",
            "_view_count": null,
            "_view_module": "@jupyter-widgets/base",
            "_view_module_version": "1.2.0",
            "_view_name": "LayoutView",
            "align_content": null,
            "align_items": null,
            "align_self": null,
            "border": null,
            "bottom": null,
            "display": null,
            "flex": null,
            "flex_flow": null,
            "grid_area": null,
            "grid_auto_columns": null,
            "grid_auto_flow": null,
            "grid_auto_rows": null,
            "grid_column": null,
            "grid_gap": null,
            "grid_row": null,
            "grid_template_areas": null,
            "grid_template_columns": null,
            "grid_template_rows": null,
            "height": null,
            "justify_content": null,
            "justify_items": null,
            "left": null,
            "margin": null,
            "max_height": null,
            "max_width": null,
            "min_height": null,
            "min_width": null,
            "object_fit": null,
            "object_position": null,
            "order": null,
            "overflow": null,
            "overflow_x": null,
            "overflow_y": null,
            "padding": null,
            "right": null,
            "top": null,
            "visibility": null,
            "width": null
          }
        },
        "b0ea6a0e97154ae2ba17855e544e838b": {
          "model_module": "@jupyter-widgets/base",
          "model_name": "LayoutModel",
          "model_module_version": "1.2.0",
          "state": {
            "_model_module": "@jupyter-widgets/base",
            "_model_module_version": "1.2.0",
            "_model_name": "LayoutModel",
            "_view_count": null,
            "_view_module": "@jupyter-widgets/base",
            "_view_module_version": "1.2.0",
            "_view_name": "LayoutView",
            "align_content": null,
            "align_items": null,
            "align_self": null,
            "border": null,
            "bottom": null,
            "display": null,
            "flex": null,
            "flex_flow": null,
            "grid_area": null,
            "grid_auto_columns": null,
            "grid_auto_flow": null,
            "grid_auto_rows": null,
            "grid_column": null,
            "grid_gap": null,
            "grid_row": null,
            "grid_template_areas": null,
            "grid_template_columns": null,
            "grid_template_rows": null,
            "height": null,
            "justify_content": null,
            "justify_items": null,
            "left": null,
            "margin": null,
            "max_height": null,
            "max_width": null,
            "min_height": null,
            "min_width": null,
            "object_fit": null,
            "object_position": null,
            "order": null,
            "overflow": null,
            "overflow_x": null,
            "overflow_y": null,
            "padding": null,
            "right": null,
            "top": null,
            "visibility": null,
            "width": null
          }
        },
        "36ade23b89ec4e0b817ef1992d419cba": {
          "model_module": "@jupyter-widgets/controls",
          "model_name": "DescriptionStyleModel",
          "model_module_version": "1.5.0",
          "state": {
            "_model_module": "@jupyter-widgets/controls",
            "_model_module_version": "1.5.0",
            "_model_name": "DescriptionStyleModel",
            "_view_count": null,
            "_view_module": "@jupyter-widgets/base",
            "_view_module_version": "1.2.0",
            "_view_name": "StyleView",
            "description_width": ""
          }
        },
        "faf030319ab14190918c6fefd52133d8": {
          "model_module": "@jupyter-widgets/base",
          "model_name": "LayoutModel",
          "model_module_version": "1.2.0",
          "state": {
            "_model_module": "@jupyter-widgets/base",
            "_model_module_version": "1.2.0",
            "_model_name": "LayoutModel",
            "_view_count": null,
            "_view_module": "@jupyter-widgets/base",
            "_view_module_version": "1.2.0",
            "_view_name": "LayoutView",
            "align_content": null,
            "align_items": null,
            "align_self": null,
            "border": null,
            "bottom": null,
            "display": null,
            "flex": null,
            "flex_flow": null,
            "grid_area": null,
            "grid_auto_columns": null,
            "grid_auto_flow": null,
            "grid_auto_rows": null,
            "grid_column": null,
            "grid_gap": null,
            "grid_row": null,
            "grid_template_areas": null,
            "grid_template_columns": null,
            "grid_template_rows": null,
            "height": null,
            "justify_content": null,
            "justify_items": null,
            "left": null,
            "margin": null,
            "max_height": null,
            "max_width": null,
            "min_height": null,
            "min_width": null,
            "object_fit": null,
            "object_position": null,
            "order": null,
            "overflow": null,
            "overflow_x": null,
            "overflow_y": null,
            "padding": null,
            "right": null,
            "top": null,
            "visibility": null,
            "width": null
          }
        },
        "f248e1ac377f4aca80b18ca7941b579e": {
          "model_module": "@jupyter-widgets/controls",
          "model_name": "ProgressStyleModel",
          "model_module_version": "1.5.0",
          "state": {
            "_model_module": "@jupyter-widgets/controls",
            "_model_module_version": "1.5.0",
            "_model_name": "ProgressStyleModel",
            "_view_count": null,
            "_view_module": "@jupyter-widgets/base",
            "_view_module_version": "1.2.0",
            "_view_name": "StyleView",
            "bar_color": null,
            "description_width": ""
          }
        },
        "f4eb2fc2a3a14045ab934e83860d9b29": {
          "model_module": "@jupyter-widgets/controls",
          "model_name": "VBoxModel",
          "model_module_version": "1.5.0",
          "state": {
            "_dom_classes": [],
            "_model_module": "@jupyter-widgets/controls",
            "_model_module_version": "1.5.0",
            "_model_name": "VBoxModel",
            "_view_count": null,
            "_view_module": "@jupyter-widgets/controls",
            "_view_module_version": "1.5.0",
            "_view_name": "VBoxView",
            "box_style": "",
            "children": [
              "IPY_MODEL_e999f324d1594ce4aeaf85d274cd5ea5",
              "IPY_MODEL_7c14c7870da345f8b00854af1526a1e2"
            ],
            "layout": "IPY_MODEL_df29a455f3ba45049e48cdfc66ad991e"
          }
        },
        "e999f324d1594ce4aeaf85d274cd5ea5": {
          "model_module": "@jupyter-widgets/controls",
          "model_name": "LabelModel",
          "model_module_version": "1.5.0",
          "state": {
            "_dom_classes": [],
            "_model_module": "@jupyter-widgets/controls",
            "_model_module_version": "1.5.0",
            "_model_name": "LabelModel",
            "_view_count": null,
            "_view_module": "@jupyter-widgets/controls",
            "_view_module_version": "1.5.0",
            "_view_name": "LabelView",
            "description": "",
            "description_tooltip": null,
            "layout": "IPY_MODEL_41c2f95e67984221a5d101a519a9f9da",
            "placeholder": "​",
            "style": "IPY_MODEL_8600a0f154e74457808e644216ec0adf",
            "value": "0.012 MB of 0.012 MB uploaded\r"
          }
        },
        "7c14c7870da345f8b00854af1526a1e2": {
          "model_module": "@jupyter-widgets/controls",
          "model_name": "FloatProgressModel",
          "model_module_version": "1.5.0",
          "state": {
            "_dom_classes": [],
            "_model_module": "@jupyter-widgets/controls",
            "_model_module_version": "1.5.0",
            "_model_name": "FloatProgressModel",
            "_view_count": null,
            "_view_module": "@jupyter-widgets/controls",
            "_view_module_version": "1.5.0",
            "_view_name": "ProgressView",
            "bar_style": "",
            "description": "",
            "description_tooltip": null,
            "layout": "IPY_MODEL_540f935f5f4d4ebdb45401e21dcdb514",
            "max": 1,
            "min": 0,
            "orientation": "horizontal",
            "style": "IPY_MODEL_8627f7ac482747ca84b73ae3b6d54fb1",
            "value": 1
          }
        },
        "df29a455f3ba45049e48cdfc66ad991e": {
          "model_module": "@jupyter-widgets/base",
          "model_name": "LayoutModel",
          "model_module_version": "1.2.0",
          "state": {
            "_model_module": "@jupyter-widgets/base",
            "_model_module_version": "1.2.0",
            "_model_name": "LayoutModel",
            "_view_count": null,
            "_view_module": "@jupyter-widgets/base",
            "_view_module_version": "1.2.0",
            "_view_name": "LayoutView",
            "align_content": null,
            "align_items": null,
            "align_self": null,
            "border": null,
            "bottom": null,
            "display": null,
            "flex": null,
            "flex_flow": null,
            "grid_area": null,
            "grid_auto_columns": null,
            "grid_auto_flow": null,
            "grid_auto_rows": null,
            "grid_column": null,
            "grid_gap": null,
            "grid_row": null,
            "grid_template_areas": null,
            "grid_template_columns": null,
            "grid_template_rows": null,
            "height": null,
            "justify_content": null,
            "justify_items": null,
            "left": null,
            "margin": null,
            "max_height": null,
            "max_width": null,
            "min_height": null,
            "min_width": null,
            "object_fit": null,
            "object_position": null,
            "order": null,
            "overflow": null,
            "overflow_x": null,
            "overflow_y": null,
            "padding": null,
            "right": null,
            "top": null,
            "visibility": null,
            "width": null
          }
        },
        "41c2f95e67984221a5d101a519a9f9da": {
          "model_module": "@jupyter-widgets/base",
          "model_name": "LayoutModel",
          "model_module_version": "1.2.0",
          "state": {
            "_model_module": "@jupyter-widgets/base",
            "_model_module_version": "1.2.0",
            "_model_name": "LayoutModel",
            "_view_count": null,
            "_view_module": "@jupyter-widgets/base",
            "_view_module_version": "1.2.0",
            "_view_name": "LayoutView",
            "align_content": null,
            "align_items": null,
            "align_self": null,
            "border": null,
            "bottom": null,
            "display": null,
            "flex": null,
            "flex_flow": null,
            "grid_area": null,
            "grid_auto_columns": null,
            "grid_auto_flow": null,
            "grid_auto_rows": null,
            "grid_column": null,
            "grid_gap": null,
            "grid_row": null,
            "grid_template_areas": null,
            "grid_template_columns": null,
            "grid_template_rows": null,
            "height": null,
            "justify_content": null,
            "justify_items": null,
            "left": null,
            "margin": null,
            "max_height": null,
            "max_width": null,
            "min_height": null,
            "min_width": null,
            "object_fit": null,
            "object_position": null,
            "order": null,
            "overflow": null,
            "overflow_x": null,
            "overflow_y": null,
            "padding": null,
            "right": null,
            "top": null,
            "visibility": null,
            "width": null
          }
        },
        "8600a0f154e74457808e644216ec0adf": {
          "model_module": "@jupyter-widgets/controls",
          "model_name": "DescriptionStyleModel",
          "model_module_version": "1.5.0",
          "state": {
            "_model_module": "@jupyter-widgets/controls",
            "_model_module_version": "1.5.0",
            "_model_name": "DescriptionStyleModel",
            "_view_count": null,
            "_view_module": "@jupyter-widgets/base",
            "_view_module_version": "1.2.0",
            "_view_name": "StyleView",
            "description_width": ""
          }
        },
        "540f935f5f4d4ebdb45401e21dcdb514": {
          "model_module": "@jupyter-widgets/base",
          "model_name": "LayoutModel",
          "model_module_version": "1.2.0",
          "state": {
            "_model_module": "@jupyter-widgets/base",
            "_model_module_version": "1.2.0",
            "_model_name": "LayoutModel",
            "_view_count": null,
            "_view_module": "@jupyter-widgets/base",
            "_view_module_version": "1.2.0",
            "_view_name": "LayoutView",
            "align_content": null,
            "align_items": null,
            "align_self": null,
            "border": null,
            "bottom": null,
            "display": null,
            "flex": null,
            "flex_flow": null,
            "grid_area": null,
            "grid_auto_columns": null,
            "grid_auto_flow": null,
            "grid_auto_rows": null,
            "grid_column": null,
            "grid_gap": null,
            "grid_row": null,
            "grid_template_areas": null,
            "grid_template_columns": null,
            "grid_template_rows": null,
            "height": null,
            "justify_content": null,
            "justify_items": null,
            "left": null,
            "margin": null,
            "max_height": null,
            "max_width": null,
            "min_height": null,
            "min_width": null,
            "object_fit": null,
            "object_position": null,
            "order": null,
            "overflow": null,
            "overflow_x": null,
            "overflow_y": null,
            "padding": null,
            "right": null,
            "top": null,
            "visibility": null,
            "width": null
          }
        },
        "8627f7ac482747ca84b73ae3b6d54fb1": {
          "model_module": "@jupyter-widgets/controls",
          "model_name": "ProgressStyleModel",
          "model_module_version": "1.5.0",
          "state": {
            "_model_module": "@jupyter-widgets/controls",
            "_model_module_version": "1.5.0",
            "_model_name": "ProgressStyleModel",
            "_view_count": null,
            "_view_module": "@jupyter-widgets/base",
            "_view_module_version": "1.2.0",
            "_view_name": "StyleView",
            "bar_color": null,
            "description_width": ""
          }
        }
      }
    }
  },
  "cells": [
    {
      "cell_type": "markdown",
      "metadata": {
        "id": "view-in-github",
        "colab_type": "text"
      },
      "source": [
        "<a href=\"https://colab.research.google.com/github/Wojtek130/Neural-Networks/blob/main/Sweep_WandB_CNN_cifar.ipynb\" target=\"_parent\"><img src=\"https://colab.research.google.com/assets/colab-badge.svg\" alt=\"Open In Colab\"/></a>"
      ]
    },
    {
      "cell_type": "code",
      "execution_count": null,
      "metadata": {
        "id": "HGrLsRf1_YNG"
      },
      "outputs": [],
      "source": [
        "import os\n",
        "import torch\n",
        "import torchvision\n",
        "import tarfile\n",
        "from torchvision.datasets.utils import download_url\n",
        "from torch.utils.data import random_split\n",
        "from torchvision.datasets import ImageFolder\n",
        "from torchvision.transforms import ToTensor\n",
        "from torch.utils.data.dataloader import DataLoader\n",
        "import torch.nn as nn\n",
        "import torch.nn.functional as F\n",
        "import numpy as np"
      ]
    },
    {
      "cell_type": "code",
      "source": [
        "# W&B install and login\n",
        "!pip install wandb\n",
        "import wandb\n",
        "wandb.login()"
      ],
      "metadata": {
        "colab": {
          "base_uri": "https://localhost:8080/"
        },
        "id": "depn_tEV7dyl",
        "outputId": "ec3caa51-c1a1-4785-ee2d-1d2984c2923a"
      },
      "execution_count": null,
      "outputs": [
        {
          "output_type": "stream",
          "name": "stdout",
          "text": [
            "Requirement already satisfied: wandb in /usr/local/lib/python3.10/dist-packages (0.16.6)\n",
            "Requirement already satisfied: Click!=8.0.0,>=7.1 in /usr/local/lib/python3.10/dist-packages (from wandb) (8.1.7)\n",
            "Requirement already satisfied: GitPython!=3.1.29,>=1.0.0 in /usr/local/lib/python3.10/dist-packages (from wandb) (3.1.43)\n",
            "Requirement already satisfied: requests<3,>=2.0.0 in /usr/local/lib/python3.10/dist-packages (from wandb) (2.31.0)\n",
            "Requirement already satisfied: psutil>=5.0.0 in /usr/local/lib/python3.10/dist-packages (from wandb) (5.9.5)\n",
            "Requirement already satisfied: sentry-sdk>=1.0.0 in /usr/local/lib/python3.10/dist-packages (from wandb) (2.0.1)\n",
            "Requirement already satisfied: docker-pycreds>=0.4.0 in /usr/local/lib/python3.10/dist-packages (from wandb) (0.4.0)\n",
            "Requirement already satisfied: PyYAML in /usr/local/lib/python3.10/dist-packages (from wandb) (6.0.1)\n",
            "Requirement already satisfied: setproctitle in /usr/local/lib/python3.10/dist-packages (from wandb) (1.3.3)\n",
            "Requirement already satisfied: setuptools in /usr/local/lib/python3.10/dist-packages (from wandb) (67.7.2)\n",
            "Requirement already satisfied: appdirs>=1.4.3 in /usr/local/lib/python3.10/dist-packages (from wandb) (1.4.4)\n",
            "Requirement already satisfied: protobuf!=4.21.0,<5,>=3.19.0 in /usr/local/lib/python3.10/dist-packages (from wandb) (3.20.3)\n",
            "Requirement already satisfied: six>=1.4.0 in /usr/local/lib/python3.10/dist-packages (from docker-pycreds>=0.4.0->wandb) (1.16.0)\n",
            "Requirement already satisfied: gitdb<5,>=4.0.1 in /usr/local/lib/python3.10/dist-packages (from GitPython!=3.1.29,>=1.0.0->wandb) (4.0.11)\n",
            "Requirement already satisfied: charset-normalizer<4,>=2 in /usr/local/lib/python3.10/dist-packages (from requests<3,>=2.0.0->wandb) (3.3.2)\n",
            "Requirement already satisfied: idna<4,>=2.5 in /usr/local/lib/python3.10/dist-packages (from requests<3,>=2.0.0->wandb) (3.7)\n",
            "Requirement already satisfied: urllib3<3,>=1.21.1 in /usr/local/lib/python3.10/dist-packages (from requests<3,>=2.0.0->wandb) (2.0.7)\n",
            "Requirement already satisfied: certifi>=2017.4.17 in /usr/local/lib/python3.10/dist-packages (from requests<3,>=2.0.0->wandb) (2024.2.2)\n",
            "Requirement already satisfied: smmap<6,>=3.0.1 in /usr/local/lib/python3.10/dist-packages (from gitdb<5,>=4.0.1->GitPython!=3.1.29,>=1.0.0->wandb) (5.0.1)\n"
          ]
        },
        {
          "output_type": "execute_result",
          "data": {
            "text/plain": [
              "True"
            ]
          },
          "metadata": {},
          "execution_count": 81
        }
      ]
    },
    {
      "cell_type": "code",
      "source": [
        "# Dowload the dataset\n",
        "dataset_url = \"https://s3.amazonaws.com/fast-ai-imageclas/cifar10.tgz\"\n",
        "download_url(dataset_url, '.')\n",
        "# Extract from archive\n",
        "with tarfile.open('./cifar10.tgz', 'r:gz') as tar:\n",
        "    tar.extractall(path='./data')"
      ],
      "metadata": {
        "colab": {
          "base_uri": "https://localhost:8080/"
        },
        "id": "vrts52KQ_eYx",
        "outputId": "f40c4ae0-e553-4abf-d9e0-bc31a0854af9"
      },
      "execution_count": null,
      "outputs": [
        {
          "output_type": "stream",
          "name": "stdout",
          "text": [
            "Using downloaded and verified file: ./cifar10.tgz\n"
          ]
        }
      ]
    },
    {
      "cell_type": "code",
      "source": [
        "# dataset demo\n",
        "data_dir = './data/cifar10'\n",
        "\n",
        "print(os.listdir(data_dir))\n",
        "classes = os.listdir(data_dir + \"/train\")\n",
        "print(classes)\n",
        "airplane_files = os.listdir(data_dir + \"/train/airplane\")\n",
        "print('No. of training examples for airplanes:', len(airplane_files))\n",
        "print(airplane_files[:5])"
      ],
      "metadata": {
        "id": "NTX48I7w_r9T",
        "colab": {
          "base_uri": "https://localhost:8080/"
        },
        "outputId": "040c7cfc-d15e-4488-ee88-7aebe6936755"
      },
      "execution_count": null,
      "outputs": [
        {
          "output_type": "stream",
          "name": "stdout",
          "text": [
            "['test', 'train']\n",
            "['cat', 'frog', 'airplane', 'horse', 'deer', 'ship', 'truck', 'automobile', 'dog', 'bird']\n",
            "No. of training examples for airplanes: 5000\n",
            "['3686.png', '3168.png', '0274.png', '1848.png', '2403.png']\n"
          ]
        }
      ]
    },
    {
      "cell_type": "code",
      "source": [
        "# creating datasets from folders\n",
        "dataset = ImageFolder(data_dir+'/train', transform=ToTensor())\n",
        "test_dataset = ImageFolder(data_dir+'/test', transform=ToTensor())"
      ],
      "metadata": {
        "id": "nYdD8Cau_3bc"
      },
      "execution_count": null,
      "outputs": []
    },
    {
      "cell_type": "code",
      "source": [
        "# show image tensor\n",
        "img, label = dataset[0]\n",
        "# print(img.shape, label)\n",
        "# img"
      ],
      "metadata": {
        "id": "zx7iwYJ0_5v7"
      },
      "execution_count": null,
      "outputs": []
    },
    {
      "cell_type": "code",
      "source": [
        "import matplotlib\n",
        "import matplotlib.pyplot as plt\n",
        "%matplotlib inline\n",
        "\n",
        "matplotlib.rcParams['figure.facecolor'] = '#ffffff'\n",
        "def show_example(img, label):\n",
        "    print('Label: ', dataset.classes[label], \"(\"+str(label)+\")\")\n",
        "    plt.imshow(img.permute(1, 2, 0))\n",
        "\n",
        "show_example(*dataset[0])"
      ],
      "metadata": {
        "id": "qRc3h5q2AGh4",
        "colab": {
          "base_uri": "https://localhost:8080/",
          "height": 447
        },
        "outputId": "02381797-aff5-4990-d571-4278cebc9810"
      },
      "execution_count": null,
      "outputs": [
        {
          "output_type": "stream",
          "name": "stdout",
          "text": [
            "Label:  airplane (0)\n"
          ]
        },
        {
          "output_type": "display_data",
          "data": {
            "text/plain": [
              "<Figure size 640x480 with 1 Axes>"
            ],
            "image/png": "[encoded data removed]"
          },
          "metadata": {}
        }
      ]
    },
    {
      "cell_type": "code",
      "source": [
        "# 1. splitting the dataset\n",
        "random_seed = 42\n",
        "torch.manual_seed(random_seed)\n",
        "val_size = 5000\n",
        "train_size = len(dataset) - val_size\n",
        "\n",
        "train_ds, val_ds = random_split(dataset, [train_size, val_size])\n",
        "len(train_ds), len(val_ds)"
      ],
      "metadata": {
        "id": "I2WUXV_xATc5",
        "colab": {
          "base_uri": "https://localhost:8080/"
        },
        "outputId": "da7cc604-5f2d-47b6-901c-fef6b2684781"
      },
      "execution_count": null,
      "outputs": [
        {
          "output_type": "execute_result",
          "data": {
            "text/plain": [
              "(45000, 5000)"
            ]
          },
          "metadata": {},
          "execution_count": 87
        }
      ]
    },
    {
      "cell_type": "code",
      "source": [
        "dataset[0][0].shape, \"!!!!\""
      ],
      "metadata": {
        "id": "gyT-tDsG8bMu",
        "colab": {
          "base_uri": "https://localhost:8080/"
        },
        "outputId": "3bb5683f-acb4-4a77-8993-dc678184c0ce"
      },
      "execution_count": null,
      "outputs": [
        {
          "output_type": "execute_result",
          "data": {
            "text/plain": [
              "(torch.Size([3, 32, 32]), '!!!!')"
            ]
          },
          "metadata": {},
          "execution_count": 88
        }
      ]
    },
    {
      "cell_type": "code",
      "source": [
        "# W&B Config\n",
        "# config = dict(\n",
        "#     epochs=5,\n",
        "#     classes=10,\n",
        "#     # kernels=[16, 32],\n",
        "#     batch_size=128,\n",
        "#     learning_rate=0.005,\n",
        "#     dataset=\"CIFAR\",\n",
        "#     architecture=\"CNN\")\n",
        "\n",
        "sweep_config = {\n",
        "    'method': 'random',  # random, grid or bayes\n",
        "    'name': 'sweep-cifar',\n",
        "    'metric': {'goal': 'minimize', 'name': 'val_loss'},\n",
        "    'parameters':\n",
        "    {\n",
        "        'batch_size': {'values': [64, 128, 256]},\n",
        "        'epochs': {'values': [5, 10, 15]},\n",
        "        'learning_rate': {'values': [0.1, 0.01, 0.001]},\n",
        "        # 'learning_rate': {'max': 0.1, 'min': 0.0001},\n",
        "            'optimizer': {\n",
        "        'values': ['adam', 'sgd']\n",
        "        },\n",
        "     },\n",
        "\n",
        "}\n",
        "\n",
        "sweep_id = wandb.sweep(sweep_config, project=\"cifar-swp\")\n",
        "\n",
        "# wandb.init(\n",
        "#     # set the wandb project where this run will be logged\n",
        "#     project=\"cifar-swp\",\n",
        "\n",
        "#     # track hyperparameters and run metadata\n",
        "#     # config={\n",
        "#     # \"learning_rate\": 0.02,\n",
        "#     # \"architecture\": \"CNN\",\n",
        "#     # \"dataset\": \"CIFAR-100\",\n",
        "#     # \"epochs\": 10,\n",
        "#     # }\n",
        "#     config = config\n",
        "# )"
      ],
      "metadata": {
        "id": "5jcMI_bO8qaM",
        "colab": {
          "base_uri": "https://localhost:8080/"
        },
        "outputId": "3eac09c0-8929-41da-9cc9-5a13c14f6f6c"
      },
      "execution_count": null,
      "outputs": [
        {
          "output_type": "stream",
          "name": "stdout",
          "text": [
            "Create sweep with ID: wdh892sn\n",
            "Sweep URL: https://wandb.ai/wsniady-org/cifar-swp/sweeps/wdh892sn\n"
          ]
        }
      ]
    },
    {
      "cell_type": "code",
      "source": [
        "# 2. creating the dataloaders\n"
      ],
      "metadata": {
        "id": "jcUCryb8AcDP"
      },
      "execution_count": null,
      "outputs": []
    },
    {
      "cell_type": "code",
      "source": [
        "# 3a. GPU\n",
        "def get_default_device():\n",
        "    \"\"\"Pick GPU if available, else CPU\"\"\"\n",
        "    if torch.cuda.is_available():\n",
        "        return torch.device('cuda')\n",
        "    else:\n",
        "        return torch.device('cpu')\n",
        "\n",
        "def to_device(data, device):\n",
        "    \"\"\"Move tensor(s) to chosen device\"\"\"\n",
        "    if isinstance(data, (list,tuple)):\n",
        "        return [to_device(x, device) for x in data]\n",
        "    return data.to(device, non_blocking=True)\n",
        "\n",
        "class DeviceDataLoader():\n",
        "    \"\"\"Wrap a dataloader to move data to a device\"\"\"\n",
        "    def __init__(self, dl, device):\n",
        "        self.dl = dl\n",
        "        self.device = device\n",
        "\n",
        "    def __iter__(self):\n",
        "        \"\"\"Yield a batch of data after moving it to device\"\"\"\n",
        "        for b in self.dl:\n",
        "            yield to_device(b, self.device)\n",
        "\n",
        "    def __len__(self):\n",
        "        \"\"\"Number of batches\"\"\"\n",
        "        return len(self.dl)"
      ],
      "metadata": {
        "id": "koKeqb7TP1qu"
      },
      "execution_count": null,
      "outputs": []
    },
    {
      "cell_type": "code",
      "source": [
        "# 4. Model definition\n",
        "\n",
        "def create_model():\n",
        "    model = nn.Sequential(\n",
        "        nn.Conv2d(in_channels = 3, out_channels = 16, kernel_size=3, stride = 1, padding=1),\n",
        "        nn.ReLU(),\n",
        "        nn.MaxPool2d(2,2), # output: bs x 16 x 16 x 16\n",
        "\n",
        "        nn.Conv2d(16, 16, kernel_size=3, stride = 1, padding=1),\n",
        "        nn.ReLU(),\n",
        "        nn.MaxPool2d(2,2), # output: bs x 16 x 8 x 8\n",
        "\n",
        "        nn.Conv2d(16, 16, kernel_size=3, stride = 1, padding=1),\n",
        "        nn.ReLU(),\n",
        "        nn.MaxPool2d(2,2), # output: bs x 16 x 4 x 4\n",
        "\n",
        "        nn.Conv2d(16, 16, kernel_size=3, stride = 1, padding=1),\n",
        "        nn.ReLU(),\n",
        "        nn.MaxPool2d(2,2), # output: bs x 16 x 2 x 2\n",
        "\n",
        "        nn.Conv2d(16, 16, kernel_size=3, stride = 1, padding=1),\n",
        "        nn.ReLU(),\n",
        "        nn.MaxPool2d(2,2), # output: bs x 16 x 1 x 1\n",
        "\n",
        "        nn.Flatten(), # output: bs x 16\n",
        "        nn.Linear(16, 10)\n",
        "    )\n",
        "    return model"
      ],
      "metadata": {
        "id": "FbuPj6JtW9o0"
      },
      "execution_count": null,
      "outputs": []
    },
    {
      "cell_type": "code",
      "source": [
        "# 5. Loss batch\n",
        "def loss_batch(model, loss_func, xb, yb, opt=None, metric=None):\n",
        "    preds = model(xb)\n",
        "    loss = loss_func(preds, yb)\n",
        "    if opt is not None:\n",
        "        loss.backward()\n",
        "        opt.step()\n",
        "        opt.zero_grad()\n",
        "    metric_result = None\n",
        "    if metric is not None:\n",
        "        metric_result = metric(preds, yb)\n",
        "    return loss.item(), len(xb), metric_result"
      ],
      "metadata": {
        "id": "4yLYohXaTYeJ"
      },
      "execution_count": null,
      "outputs": []
    },
    {
      "cell_type": "code",
      "source": [
        "# 6. Accuracy (metric)\n",
        "def accuracy(outputs, labels):\n",
        "    _, preds = torch.max(outputs, dim=1)\n",
        "    return torch.tensor(torch.sum(preds == labels).item() / len(preds))"
      ],
      "metadata": {
        "id": "Jfe8UnepVi_k"
      },
      "execution_count": null,
      "outputs": []
    },
    {
      "cell_type": "code",
      "source": [
        "# 7. Training function\n",
        "def fit(epochs, model, loss_fn, train_dl, valid_dl, opt_func=torch.optim.SGD, lr=None, metric=None):\n",
        "    train_losses, val_losses, val_metrics = [], [], []\n",
        "    opt = opt_func(model.parameters(), lr)\n",
        "    for epoch in range(epochs):\n",
        "        # Training Phase\n",
        "        model.train()\n",
        "        for xb, yb in train_dl:\n",
        "            train_loss, _, _ = loss_batch(model, loss_fn, xb, yb, opt)\n",
        "\n",
        "        # evalutation\n",
        "        model.eval()\n",
        "        result = evaluate(model, loss_fn, valid_dl, metric)\n",
        "        val_loss, total, val_metric = result\n",
        "\n",
        "        # record the loss and metric\n",
        "        train_losses.append(train_loss)\n",
        "        val_losses.append(val_loss)\n",
        "        val_metrics.append(val_metric)\n",
        "\n",
        "        train_loss_f = float(train_loss)\n",
        "        val_loss_f = float(val_loss)\n",
        "        val_metric_f = float(val_metric)\n",
        "        if metric is None:\n",
        "            print(f\"Epoch [{epoch+1}/{epochs}], train loss: {train_loss}, val_loss {val_loss}\")\n",
        "            wandb.log({\"epoch\": epoch + 1, \"train_loss\": train_loss, \"val_loss\" : val_loss.item()})\n",
        "\n",
        "        else:\n",
        "            print(f\"Epoch [{epoch+1}/{epochs}], train loss: {train_loss}, val_loss {val_loss}, val_{metric.__name__}: {val_metric}\")\n",
        "            wandb.log({\"epoch\": epoch + 1, \"train_loss\": train_loss, \"val_loss\" : val_loss.item(), \"val_accuracy\" : val_metric.item()})\n",
        "\n",
        "\n",
        "\n",
        "    return train_losses, val_losses, val_metrics"
      ],
      "metadata": {
        "id": "8e6f82XaaxHU"
      },
      "execution_count": null,
      "outputs": []
    },
    {
      "cell_type": "code",
      "source": [
        "# 8. Model evaluation\n",
        "def evaluate(model, loss_fn, valid_dl, metric=None):\n",
        "    with torch.no_grad():\n",
        "        # pass each batch through the model\n",
        "        results = [loss_batch(model, loss_fn, xb, yb, metric=metric) for xb, yb in valid_dl]\n",
        "        #separate losses, counts and metrics\n",
        "        losses, nums, metrics = zip(*results)\n",
        "        # total size of the dataset\n",
        "        total = np.sum(nums)\n",
        "        # avg. loss acreoss batches\n",
        "        avg_loss = np.sum(np.multiply(losses, nums)) / total\n",
        "        avg_metric = None\n",
        "        if metric is not None:\n",
        "            # avg. of metric across batches\n",
        "            avg_metric = np.sum(np.multiply(metrics, nums)) / total\n",
        "    return avg_loss, total, avg_metric"
      ],
      "metadata": {
        "id": "dPwWZvFwQKfv"
      },
      "execution_count": null,
      "outputs": []
    },
    {
      "cell_type": "code",
      "source": [
        "# 3b. Moving data to GPU\n",
        "\n",
        "\n"
      ],
      "metadata": {
        "id": "aXIblJE7QG6E"
      },
      "execution_count": null,
      "outputs": []
    },
    {
      "cell_type": "code",
      "source": [
        "# one iteration\n",
        "# val_loss, _, val_acc = evaluate(model, F.cross_entropy, valid_dl, metric = accuracy)"
      ],
      "metadata": {
        "id": "kgjJminiVSpG"
      },
      "execution_count": null,
      "outputs": []
    },
    {
      "cell_type": "code",
      "source": [
        "# num_epochs = 10\n",
        "# opt_fn = torch.optim.Adam\n",
        "# lr = 0.005"
      ],
      "metadata": {
        "id": "dowOBAbtVl_O"
      },
      "execution_count": null,
      "outputs": []
    },
    {
      "cell_type": "code",
      "source": [
        "def create_optimizer(model, optimizer, learning_rate):\n",
        "    if optimizer == \"sgd\":\n",
        "        optimizer = torch.optim.SGD\n",
        "    elif optimizer == \"adam\":\n",
        "        optimizer = torch.optim.Adam\n",
        "    return optimizer"
      ],
      "metadata": {
        "id": "OHeze1jMVySi"
      },
      "execution_count": null,
      "outputs": []
    },
    {
      "cell_type": "code",
      "source": [
        "def main(config=None):\n",
        "    # Initialize a new wandb run\n",
        "    with wandb.init(config=config):\n",
        "        # If called by wandb.agent, as below,\n",
        "        # this config will be set by Sweep Controller\n",
        "        batch_size= wandb.config.batch_size\n",
        "        train_dl = DataLoader(train_ds, batch_size, shuffle=True, num_workers=4, pin_memory=True)\n",
        "        valid_dl = DataLoader(val_ds, batch_size*2, num_workers=4, pin_memory=True)\n",
        "        test_dl = DataLoader(test_dataset, batch_size*2)\n",
        "        model = create_model()\n",
        "\n",
        "        device = get_default_device()\n",
        "        train_dl = DeviceDataLoader(train_dl, device)\n",
        "        valid_dl = DeviceDataLoader(valid_dl, device)\n",
        "        test_dl = DeviceDataLoader(test_dl, device)\n",
        "        to_device(model, device)\n",
        "\n",
        "        opt_fn = create_optimizer(model, wandb.config.optimizer, wandb.config.learning_rate)\n",
        "\n",
        "        history = fit(wandb.config.epochs, model, F.cross_entropy, train_dl, valid_dl, opt_fn, wandb.config.learning_rate, accuracy)"
      ],
      "metadata": {
        "id": "3NyqYPVZn0qN"
      },
      "execution_count": null,
      "outputs": []
    },
    {
      "cell_type": "code",
      "source": [
        "wandb.agent(sweep_id, main, count=5)"
      ],
      "metadata": {
        "colab": {
          "base_uri": "https://localhost:8080/",
          "height": 1000,
          "referenced_widgets": [
            "137366060e23435685d0ac9989d12955",
            "a02641ee72f54417a30d4b862c26158d",
            "034b2eb652d44709bc9da0e2832a2078",
            "6051f2cade7e4e96b1f15c3a0cfc9598",
            "c8d4cf2a10534c24afe3317c0f36d167",
            "3fb527a475a140e9b3239a763d58e576",
            "88cc05b7416d4cedbae095b4751aac6a",
            "5c67e77071f04a698f622930221c7688",
            "f75c15b0ec144568b6b7b1396b1ec891",
            "a711f463192246fbab528cbf74d9b107",
            "0dabce0ab6f743ddb0fba9e04e0ac5e0",
            "fb783d0c144a4f6f90e2448db05d9f5a",
            "48390901148a421a89c612c12fab7027",
            "4a7c93e7b2cb4b1981bd5ccf97b0e9df",
            "88e837c313b14c5785788a0687004d4f",
            "fffedeab11b842ac977f468c412d313e",
            "6b3e98d5ae4b47b89f5f1be8cf966626",
            "2bbe7e4e3a1b4db59cb223d26863006f",
            "1fd47b7cdaa44f6a90dc7b095a1a0a29",
            "cc30bfc77d7e4f19b6411fcecbedd022",
            "ba43ea14e167406f943105febb7ca7b5",
            "0fbf0039109146bb83e2764dcfb9626b",
            "2a3e68657ec64ae689fa1a550391d9b1",
            "93973390e95441d694e4660008238eb5",
            "f0f08913d333471ebc2c2af85d9866d4",
            "9f33133428544ec4ba848b8f65454cf8",
            "21e76d0239f942768b57305e43a6805e",
            "2584ffa049444ee2a63df368492549cd",
            "b0ea6a0e97154ae2ba17855e544e838b",
            "36ade23b89ec4e0b817ef1992d419cba",
            "faf030319ab14190918c6fefd52133d8",
            "f248e1ac377f4aca80b18ca7941b579e",
            "f4eb2fc2a3a14045ab934e83860d9b29",
            "e999f324d1594ce4aeaf85d274cd5ea5",
            "7c14c7870da345f8b00854af1526a1e2",
            "df29a455f3ba45049e48cdfc66ad991e",
            "41c2f95e67984221a5d101a519a9f9da",
            "8600a0f154e74457808e644216ec0adf",
            "540f935f5f4d4ebdb45401e21dcdb514",
            "8627f7ac482747ca84b73ae3b6d54fb1"
          ]
        },
        "id": "9hlghUanpbjl",
        "outputId": "9cfb4152-a53b-4a84-e620-7bc86bc0111f"
      },
      "execution_count": null,
      "outputs": [
        {
          "output_type": "stream",
          "name": "stderr",
          "text": [
            "\u001b[34m\u001b[1mwandb\u001b[0m: Agent Starting Run: ti7ndk2o with config:\n",
            "\u001b[34m\u001b[1mwandb\u001b[0m: \tbatch_size: 128\n",
            "\u001b[34m\u001b[1mwandb\u001b[0m: \tepochs: 5\n",
            "\u001b[34m\u001b[1mwandb\u001b[0m: \tlearning_rate: 0.1\n",
            "\u001b[34m\u001b[1mwandb\u001b[0m: \toptimizer: sgd\n"
          ]
        },
        {
          "output_type": "display_data",
          "data": {
            "text/plain": [
              "<IPython.core.display.HTML object>"
            ],
            "text/html": [
              "Tracking run with wandb version 0.16.6"
            ]
          },
          "metadata": {}
        },
        {
          "output_type": "display_data",
          "data": {
            "text/plain": [
              "<IPython.core.display.HTML object>"
            ],
            "text/html": [
              "Run data is saved locally in <code>/content/wandb/run-20240429_212011-ti7ndk2o</code>"
            ]
          },
          "metadata": {}
        },
        {
          "output_type": "display_data",
          "data": {
            "text/plain": [
              "<IPython.core.display.HTML object>"
            ],
            "text/html": [
              "Syncing run <strong><a href='https://wandb.ai/wsniady-org/cifar-swp/runs/ti7ndk2o' target=\"_blank\">twilight-sweep-1</a></strong> to <a href='https://wandb.ai/wsniady-org/cifar-swp' target=\"_blank\">Weights & Biases</a> (<a href='https://wandb.me/run' target=\"_blank\">docs</a>)<br/>Sweep page: <a href='https://wandb.ai/wsniady-org/cifar-swp/sweeps/wdh892sn' target=\"_blank\">https://wandb.ai/wsniady-org/cifar-swp/sweeps/wdh892sn</a>"
            ]
          },
          "metadata": {}
        },
        {
          "output_type": "display_data",
          "data": {
            "text/plain": [
              "<IPython.core.display.HTML object>"
            ],
            "text/html": [
              " View project at <a href='https://wandb.ai/wsniady-org/cifar-swp' target=\"_blank\">https://wandb.ai/wsniady-org/cifar-swp</a>"
            ]
          },
          "metadata": {}
        },
        {
          "output_type": "display_data",
          "data": {
            "text/plain": [
              "<IPython.core.display.HTML object>"
            ],
            "text/html": [
              " View sweep at <a href='https://wandb.ai/wsniady-org/cifar-swp/sweeps/wdh892sn' target=\"_blank\">https://wandb.ai/wsniady-org/cifar-swp/sweeps/wdh892sn</a>"
            ]
          },
          "metadata": {}
        },
        {
          "output_type": "display_data",
          "data": {
            "text/plain": [
              "<IPython.core.display.HTML object>"
            ],
            "text/html": [
              " View run at <a href='https://wandb.ai/wsniady-org/cifar-swp/runs/ti7ndk2o' target=\"_blank\">https://wandb.ai/wsniady-org/cifar-swp/runs/ti7ndk2o</a>"
            ]
          },
          "metadata": {}
        },
        {
          "output_type": "stream",
          "name": "stdout",
          "text": [
            "Epoch [1/5], train loss: 2.2984209060668945, val_loss 2.306360334777832, val_accuracy: 0.09720000004768371\n",
            "Epoch [2/5], train loss: 2.122063159942627, val_loss 2.140696783065796, val_accuracy: 0.23199999976158142\n",
            "Epoch [3/5], train loss: 1.9453669786453247, val_loss 1.927456054878235, val_accuracy: 0.2955999997138977\n",
            "Epoch [4/5], train loss: 1.881460428237915, val_loss 1.8867064418792725, val_accuracy: 0.2921999999046326\n",
            "Epoch [5/5], train loss: 1.6937716007232666, val_loss 1.67265100440979, val_accuracy: 0.3956000000476837\n"
          ]
        },
        {
          "output_type": "display_data",
          "data": {
            "text/plain": [
              "VBox(children=(Label(value='0.001 MB of 0.001 MB uploaded\\r'), FloatProgress(value=1.0, max=1.0)))"
            ],
            "application/vnd.jupyter.widget-view+json": {
              "version_major": 2,
              "version_minor": 0,
              "model_id": "137366060e23435685d0ac9989d12955"
            }
          },
          "metadata": {}
        },
        {
          "output_type": "display_data",
          "data": {
            "text/plain": [
              "<IPython.core.display.HTML object>"
            ],
            "text/html": [
              "<style>\n",
              "    table.wandb td:nth-child(1) { padding: 0 10px; text-align: left ; width: auto;} td:nth-child(2) {text-align: left ; width: 100%}\n",
              "    .wandb-row { display: flex; flex-direction: row; flex-wrap: wrap; justify-content: flex-start; width: 100% }\n",
              "    .wandb-col { display: flex; flex-direction: column; flex-basis: 100%; flex: 1; padding: 10px; }\n",
              "    </style>\n",
              "<div class=\"wandb-row\"><div class=\"wandb-col\"><h3>Run history:</h3><br/><table class=\"wandb\"><tr><td>epoch</td><td>▁▃▅▆█</td></tr><tr><td>train_loss</td><td>█▆▄▃▁</td></tr><tr><td>val_accuracy</td><td>▁▄▆▆█</td></tr><tr><td>val_loss</td><td>█▆▄▃▁</td></tr></table><br/></div><div class=\"wandb-col\"><h3>Run summary:</h3><br/><table class=\"wandb\"><tr><td>epoch</td><td>5</td></tr><tr><td>train_loss</td><td>1.69377</td></tr><tr><td>val_accuracy</td><td>0.3956</td></tr><tr><td>val_loss</td><td>1.67265</td></tr></table><br/></div></div>"
            ]
          },
          "metadata": {}
        },
        {
          "output_type": "display_data",
          "data": {
            "text/plain": [
              "<IPython.core.display.HTML object>"
            ],
            "text/html": [
              " View run <strong style=\"color:#cdcd00\">twilight-sweep-1</strong> at: <a href='https://wandb.ai/wsniady-org/cifar-swp/runs/ti7ndk2o' target=\"_blank\">https://wandb.ai/wsniady-org/cifar-swp/runs/ti7ndk2o</a><br/> View project at: <a href='https://wandb.ai/wsniady-org/cifar-swp' target=\"_blank\">https://wandb.ai/wsniady-org/cifar-swp</a><br/>Synced 5 W&B file(s), 0 media file(s), 0 artifact file(s) and 0 other file(s)"
            ]
          },
          "metadata": {}
        },
        {
          "output_type": "display_data",
          "data": {
            "text/plain": [
              "<IPython.core.display.HTML object>"
            ],
            "text/html": [
              "Find logs at: <code>./wandb/run-20240429_212011-ti7ndk2o/logs</code>"
            ]
          },
          "metadata": {}
        },
        {
          "output_type": "stream",
          "name": "stderr",
          "text": [
            "\u001b[34m\u001b[1mwandb\u001b[0m: Sweep Agent: Waiting for job.\n",
            "\u001b[34m\u001b[1mwandb\u001b[0m: Job received.\n",
            "\u001b[34m\u001b[1mwandb\u001b[0m: Agent Starting Run: x1va64ou with config:\n",
            "\u001b[34m\u001b[1mwandb\u001b[0m: \tbatch_size: 256\n",
            "\u001b[34m\u001b[1mwandb\u001b[0m: \tepochs: 5\n",
            "\u001b[34m\u001b[1mwandb\u001b[0m: \tlearning_rate: 0.001\n",
            "\u001b[34m\u001b[1mwandb\u001b[0m: \toptimizer: sgd\n"
          ]
        },
        {
          "output_type": "display_data",
          "data": {
            "text/plain": [
              "<IPython.core.display.HTML object>"
            ],
            "text/html": [
              "Tracking run with wandb version 0.16.6"
            ]
          },
          "metadata": {}
        },
        {
          "output_type": "display_data",
          "data": {
            "text/plain": [
              "<IPython.core.display.HTML object>"
            ],
            "text/html": [
              "Run data is saved locally in <code>/content/wandb/run-20240429_212201-x1va64ou</code>"
            ]
          },
          "metadata": {}
        },
        {
          "output_type": "display_data",
          "data": {
            "text/plain": [
              "<IPython.core.display.HTML object>"
            ],
            "text/html": [
              "Syncing run <strong><a href='https://wandb.ai/wsniady-org/cifar-swp/runs/x1va64ou' target=\"_blank\">lucky-sweep-2</a></strong> to <a href='https://wandb.ai/wsniady-org/cifar-swp' target=\"_blank\">Weights & Biases</a> (<a href='https://wandb.me/run' target=\"_blank\">docs</a>)<br/>Sweep page: <a href='https://wandb.ai/wsniady-org/cifar-swp/sweeps/wdh892sn' target=\"_blank\">https://wandb.ai/wsniady-org/cifar-swp/sweeps/wdh892sn</a>"
            ]
          },
          "metadata": {}
        },
        {
          "output_type": "display_data",
          "data": {
            "text/plain": [
              "<IPython.core.display.HTML object>"
            ],
            "text/html": [
              " View project at <a href='https://wandb.ai/wsniady-org/cifar-swp' target=\"_blank\">https://wandb.ai/wsniady-org/cifar-swp</a>"
            ]
          },
          "metadata": {}
        },
        {
          "output_type": "display_data",
          "data": {
            "text/plain": [
              "<IPython.core.display.HTML object>"
            ],
            "text/html": [
              " View sweep at <a href='https://wandb.ai/wsniady-org/cifar-swp/sweeps/wdh892sn' target=\"_blank\">https://wandb.ai/wsniady-org/cifar-swp/sweeps/wdh892sn</a>"
            ]
          },
          "metadata": {}
        },
        {
          "output_type": "display_data",
          "data": {
            "text/plain": [
              "<IPython.core.display.HTML object>"
            ],
            "text/html": [
              " View run at <a href='https://wandb.ai/wsniady-org/cifar-swp/runs/x1va64ou' target=\"_blank\">https://wandb.ai/wsniady-org/cifar-swp/runs/x1va64ou</a>"
            ]
          },
          "metadata": {}
        },
        {
          "output_type": "stream",
          "name": "stdout",
          "text": [
            "Epoch [1/5], train loss: 2.320955753326416, val_loss 2.3149747982025146, val_accuracy: 0.09539999988079072\n",
            "Epoch [2/5], train loss: 2.296536445617676, val_loss 2.3143547660827637, val_accuracy: 0.09539999988079072\n",
            "Epoch [3/5], train loss: 2.3308305740356445, val_loss 2.3137641498565675, val_accuracy: 0.09539999988079072\n",
            "Epoch [4/5], train loss: 2.322023391723633, val_loss 2.313202778625488, val_accuracy: 0.09539999988079072\n",
            "Epoch [5/5], train loss: 2.3297269344329834, val_loss 2.3126686473846436, val_accuracy: 0.09539999988079072\n"
          ]
        },
        {
          "output_type": "display_data",
          "data": {
            "text/plain": [
              "VBox(children=(Label(value='0.001 MB of 0.002 MB uploaded\\r'), FloatProgress(value=0.6211055276381909, max=1.0…"
            ],
            "application/vnd.jupyter.widget-view+json": {
              "version_major": 2,
              "version_minor": 0,
              "model_id": "f75c15b0ec144568b6b7b1396b1ec891"
            }
          },
          "metadata": {}
        },
        {
          "output_type": "display_data",
          "data": {
            "text/plain": [
              "<IPython.core.display.HTML object>"
            ],
            "text/html": [
              "<style>\n",
              "    table.wandb td:nth-child(1) { padding: 0 10px; text-align: left ; width: auto;} td:nth-child(2) {text-align: left ; width: 100%}\n",
              "    .wandb-row { display: flex; flex-direction: row; flex-wrap: wrap; justify-content: flex-start; width: 100% }\n",
              "    .wandb-col { display: flex; flex-direction: column; flex-basis: 100%; flex: 1; padding: 10px; }\n",
              "    </style>\n",
              "<div class=\"wandb-row\"><div class=\"wandb-col\"><h3>Run history:</h3><br/><table class=\"wandb\"><tr><td>epoch</td><td>▁▃▅▆█</td></tr><tr><td>train_loss</td><td>▆▁█▆█</td></tr><tr><td>val_accuracy</td><td>▁▁▁▁▁</td></tr><tr><td>val_loss</td><td>█▆▄▃▁</td></tr></table><br/></div><div class=\"wandb-col\"><h3>Run summary:</h3><br/><table class=\"wandb\"><tr><td>epoch</td><td>5</td></tr><tr><td>train_loss</td><td>2.32973</td></tr><tr><td>val_accuracy</td><td>0.0954</td></tr><tr><td>val_loss</td><td>2.31267</td></tr></table><br/></div></div>"
            ]
          },
          "metadata": {}
        },
        {
          "output_type": "display_data",
          "data": {
            "text/plain": [
              "<IPython.core.display.HTML object>"
            ],
            "text/html": [
              " View run <strong style=\"color:#cdcd00\">lucky-sweep-2</strong> at: <a href='https://wandb.ai/wsniady-org/cifar-swp/runs/x1va64ou' target=\"_blank\">https://wandb.ai/wsniady-org/cifar-swp/runs/x1va64ou</a><br/> View project at: <a href='https://wandb.ai/wsniady-org/cifar-swp' target=\"_blank\">https://wandb.ai/wsniady-org/cifar-swp</a><br/>Synced 5 W&B file(s), 0 media file(s), 0 artifact file(s) and 0 other file(s)"
            ]
          },
          "metadata": {}
        },
        {
          "output_type": "display_data",
          "data": {
            "text/plain": [
              "<IPython.core.display.HTML object>"
            ],
            "text/html": [
              "Find logs at: <code>./wandb/run-20240429_212201-x1va64ou/logs</code>"
            ]
          },
          "metadata": {}
        },
        {
          "output_type": "stream",
          "name": "stderr",
          "text": [
            "\u001b[34m\u001b[1mwandb\u001b[0m: Agent Starting Run: yb2si9mt with config:\n",
            "\u001b[34m\u001b[1mwandb\u001b[0m: \tbatch_size: 128\n",
            "\u001b[34m\u001b[1mwandb\u001b[0m: \tepochs: 10\n",
            "\u001b[34m\u001b[1mwandb\u001b[0m: \tlearning_rate: 0.1\n",
            "\u001b[34m\u001b[1mwandb\u001b[0m: \toptimizer: sgd\n"
          ]
        },
        {
          "output_type": "display_data",
          "data": {
            "text/plain": [
              "<IPython.core.display.HTML object>"
            ],
            "text/html": [
              "Tracking run with wandb version 0.16.6"
            ]
          },
          "metadata": {}
        },
        {
          "output_type": "display_data",
          "data": {
            "text/plain": [
              "<IPython.core.display.HTML object>"
            ],
            "text/html": [
              "Run data is saved locally in <code>/content/wandb/run-20240429_212330-yb2si9mt</code>"
            ]
          },
          "metadata": {}
        },
        {
          "output_type": "display_data",
          "data": {
            "text/plain": [
              "<IPython.core.display.HTML object>"
            ],
            "text/html": [
              "Syncing run <strong><a href='https://wandb.ai/wsniady-org/cifar-swp/runs/yb2si9mt' target=\"_blank\">tough-sweep-3</a></strong> to <a href='https://wandb.ai/wsniady-org/cifar-swp' target=\"_blank\">Weights & Biases</a> (<a href='https://wandb.me/run' target=\"_blank\">docs</a>)<br/>Sweep page: <a href='https://wandb.ai/wsniady-org/cifar-swp/sweeps/wdh892sn' target=\"_blank\">https://wandb.ai/wsniady-org/cifar-swp/sweeps/wdh892sn</a>"
            ]
          },
          "metadata": {}
        },
        {
          "output_type": "display_data",
          "data": {
            "text/plain": [
              "<IPython.core.display.HTML object>"
            ],
            "text/html": [
              " View project at <a href='https://wandb.ai/wsniady-org/cifar-swp' target=\"_blank\">https://wandb.ai/wsniady-org/cifar-swp</a>"
            ]
          },
          "metadata": {}
        },
        {
          "output_type": "display_data",
          "data": {
            "text/plain": [
              "<IPython.core.display.HTML object>"
            ],
            "text/html": [
              " View sweep at <a href='https://wandb.ai/wsniady-org/cifar-swp/sweeps/wdh892sn' target=\"_blank\">https://wandb.ai/wsniady-org/cifar-swp/sweeps/wdh892sn</a>"
            ]
          },
          "metadata": {}
        },
        {
          "output_type": "display_data",
          "data": {
            "text/plain": [
              "<IPython.core.display.HTML object>"
            ],
            "text/html": [
              " View run at <a href='https://wandb.ai/wsniady-org/cifar-swp/runs/yb2si9mt' target=\"_blank\">https://wandb.ai/wsniady-org/cifar-swp/runs/yb2si9mt</a>"
            ]
          },
          "metadata": {}
        },
        {
          "output_type": "stream",
          "name": "stdout",
          "text": [
            "Epoch [1/10], train loss: 2.2992255687713623, val_loss 2.3026005725860594, val_accuracy: 0.10140000003576279\n",
            "Epoch [2/10], train loss: 2.3015549182891846, val_loss 2.3021366497039795, val_accuracy: 0.09880000005960464\n",
            "Epoch [3/10], train loss: 2.2933168411254883, val_loss 2.2850416500091555, val_accuracy: 0.141800000166893\n",
            "Epoch [4/10], train loss: 2.039890766143799, val_loss 2.082632991027832, val_accuracy: 0.22439999980926514\n",
            "Epoch [5/10], train loss: 1.8670883178710938, val_loss 2.1039266078948975, val_accuracy: 0.21899999995231628\n",
            "Epoch [6/10], train loss: 1.8034014701843262, val_loss 1.9094898012161254, val_accuracy: 0.2769999999523163\n",
            "Epoch [7/10], train loss: 1.491351842880249, val_loss 1.7095907766342162, val_accuracy: 0.3658000002384186\n",
            "Epoch [8/10], train loss: 1.7260061502456665, val_loss 1.6979497245788575, val_accuracy: 0.39219999976158143\n",
            "Epoch [9/10], train loss: 1.497849702835083, val_loss 1.5588113805770873, val_accuracy: 0.4241999997615814\n",
            "Epoch [10/10], train loss: 1.3341577053070068, val_loss 1.608907293510437, val_accuracy: 0.42819999966621397\n"
          ]
        },
        {
          "output_type": "display_data",
          "data": {
            "text/plain": [
              "VBox(children=(Label(value='0.001 MB of 0.012 MB uploaded\\r'), FloatProgress(value=0.10105469708118715, max=1.…"
            ],
            "application/vnd.jupyter.widget-view+json": {
              "version_major": 2,
              "version_minor": 0,
              "model_id": "6b3e98d5ae4b47b89f5f1be8cf966626"
            }
          },
          "metadata": {}
        },
        {
          "output_type": "display_data",
          "data": {
            "text/plain": [
              "<IPython.core.display.HTML object>"
            ],
            "text/html": [
              "<style>\n",
              "    table.wandb td:nth-child(1) { padding: 0 10px; text-align: left ; width: auto;} td:nth-child(2) {text-align: left ; width: 100%}\n",
              "    .wandb-row { display: flex; flex-direction: row; flex-wrap: wrap; justify-content: flex-start; width: 100% }\n",
              "    .wandb-col { display: flex; flex-direction: column; flex-basis: 100%; flex: 1; padding: 10px; }\n",
              "    </style>\n",
              "<div class=\"wandb-row\"><div class=\"wandb-col\"><h3>Run history:</h3><br/><table class=\"wandb\"><tr><td>epoch</td><td>▁▂▃▃▄▅▆▆▇█</td></tr><tr><td>train_loss</td><td>███▆▅▄▂▄▂▁</td></tr><tr><td>val_accuracy</td><td>▁▁▂▄▄▅▇▇██</td></tr><tr><td>val_loss</td><td>███▆▆▄▂▂▁▁</td></tr></table><br/></div><div class=\"wandb-col\"><h3>Run summary:</h3><br/><table class=\"wandb\"><tr><td>epoch</td><td>10</td></tr><tr><td>train_loss</td><td>1.33416</td></tr><tr><td>val_accuracy</td><td>0.4282</td></tr><tr><td>val_loss</td><td>1.60891</td></tr></table><br/></div></div>"
            ]
          },
          "metadata": {}
        },
        {
          "output_type": "display_data",
          "data": {
            "text/plain": [
              "<IPython.core.display.HTML object>"
            ],
            "text/html": [
              " View run <strong style=\"color:#cdcd00\">tough-sweep-3</strong> at: <a href='https://wandb.ai/wsniady-org/cifar-swp/runs/yb2si9mt' target=\"_blank\">https://wandb.ai/wsniady-org/cifar-swp/runs/yb2si9mt</a><br/> View project at: <a href='https://wandb.ai/wsniady-org/cifar-swp' target=\"_blank\">https://wandb.ai/wsniady-org/cifar-swp</a><br/>Synced 5 W&B file(s), 0 media file(s), 0 artifact file(s) and 0 other file(s)"
            ]
          },
          "metadata": {}
        },
        {
          "output_type": "display_data",
          "data": {
            "text/plain": [
              "<IPython.core.display.HTML object>"
            ],
            "text/html": [
              "Find logs at: <code>./wandb/run-20240429_212330-yb2si9mt/logs</code>"
            ]
          },
          "metadata": {}
        },
        {
          "output_type": "stream",
          "name": "stderr",
          "text": [
            "\u001b[34m\u001b[1mwandb\u001b[0m: Agent Starting Run: jwrq7re2 with config:\n",
            "\u001b[34m\u001b[1mwandb\u001b[0m: \tbatch_size: 256\n",
            "\u001b[34m\u001b[1mwandb\u001b[0m: \tepochs: 10\n",
            "\u001b[34m\u001b[1mwandb\u001b[0m: \tlearning_rate: 0.1\n",
            "\u001b[34m\u001b[1mwandb\u001b[0m: \toptimizer: adam\n"
          ]
        },
        {
          "output_type": "display_data",
          "data": {
            "text/plain": [
              "<IPython.core.display.HTML object>"
            ],
            "text/html": [
              "Tracking run with wandb version 0.16.6"
            ]
          },
          "metadata": {}
        },
        {
          "output_type": "display_data",
          "data": {
            "text/plain": [
              "<IPython.core.display.HTML object>"
            ],
            "text/html": [
              "Run data is saved locally in <code>/content/wandb/run-20240429_212613-jwrq7re2</code>"
            ]
          },
          "metadata": {}
        },
        {
          "output_type": "display_data",
          "data": {
            "text/plain": [
              "<IPython.core.display.HTML object>"
            ],
            "text/html": [
              "Syncing run <strong><a href='https://wandb.ai/wsniady-org/cifar-swp/runs/jwrq7re2' target=\"_blank\">revived-sweep-4</a></strong> to <a href='https://wandb.ai/wsniady-org/cifar-swp' target=\"_blank\">Weights & Biases</a> (<a href='https://wandb.me/run' target=\"_blank\">docs</a>)<br/>Sweep page: <a href='https://wandb.ai/wsniady-org/cifar-swp/sweeps/wdh892sn' target=\"_blank\">https://wandb.ai/wsniady-org/cifar-swp/sweeps/wdh892sn</a>"
            ]
          },
          "metadata": {}
        },
        {
          "output_type": "display_data",
          "data": {
            "text/plain": [
              "<IPython.core.display.HTML object>"
            ],
            "text/html": [
              " View project at <a href='https://wandb.ai/wsniady-org/cifar-swp' target=\"_blank\">https://wandb.ai/wsniady-org/cifar-swp</a>"
            ]
          },
          "metadata": {}
        },
        {
          "output_type": "display_data",
          "data": {
            "text/plain": [
              "<IPython.core.display.HTML object>"
            ],
            "text/html": [
              " View sweep at <a href='https://wandb.ai/wsniady-org/cifar-swp/sweeps/wdh892sn' target=\"_blank\">https://wandb.ai/wsniady-org/cifar-swp/sweeps/wdh892sn</a>"
            ]
          },
          "metadata": {}
        },
        {
          "output_type": "display_data",
          "data": {
            "text/plain": [
              "<IPython.core.display.HTML object>"
            ],
            "text/html": [
              " View run at <a href='https://wandb.ai/wsniady-org/cifar-swp/runs/jwrq7re2' target=\"_blank\">https://wandb.ai/wsniady-org/cifar-swp/runs/jwrq7re2</a>"
            ]
          },
          "metadata": {}
        },
        {
          "output_type": "stream",
          "name": "stdout",
          "text": [
            "Epoch [1/10], train loss: 2.307204246520996, val_loss 2.30370259513855, val_accuracy: 0.09720000016689301\n",
            "Epoch [2/10], train loss: 2.3175759315490723, val_loss 2.307032345581055, val_accuracy: 0.09999999998807907\n",
            "Epoch [3/10], train loss: 2.302896022796631, val_loss 2.3041247787475587, val_accuracy: 0.0960000000834465\n",
            "Epoch [4/10], train loss: 2.3074285984039307, val_loss 2.305101602935791, val_accuracy: 0.0987999998807907\n",
            "Epoch [5/10], train loss: 2.3092970848083496, val_loss 2.3067911087036133, val_accuracy: 0.09999999998807907\n",
            "Epoch [6/10], train loss: 2.310331344604492, val_loss 2.306003419494629, val_accuracy: 0.10839999980926514\n",
            "Epoch [7/10], train loss: 2.3059005737304688, val_loss 2.304223194503784, val_accuracy: 0.0987999998807907\n",
            "Epoch [8/10], train loss: 2.3186194896698, val_loss 2.308837943267822, val_accuracy: 0.0987999998807907\n",
            "Epoch [9/10], train loss: 2.3250582218170166, val_loss 2.306198554611206, val_accuracy: 0.09980000026226044\n",
            "Epoch [10/10], train loss: 2.303353786468506, val_loss 2.306148299026489, val_accuracy: 0.0987999998807907\n"
          ]
        },
        {
          "output_type": "display_data",
          "data": {
            "text/plain": [
              "VBox(children=(Label(value='0.001 MB of 0.001 MB uploaded\\r'), FloatProgress(value=1.0, max=1.0)))"
            ],
            "application/vnd.jupyter.widget-view+json": {
              "version_major": 2,
              "version_minor": 0,
              "model_id": "f0f08913d333471ebc2c2af85d9866d4"
            }
          },
          "metadata": {}
        },
        {
          "output_type": "display_data",
          "data": {
            "text/plain": [
              "<IPython.core.display.HTML object>"
            ],
            "text/html": [
              "<style>\n",
              "    table.wandb td:nth-child(1) { padding: 0 10px; text-align: left ; width: auto;} td:nth-child(2) {text-align: left ; width: 100%}\n",
              "    .wandb-row { display: flex; flex-direction: row; flex-wrap: wrap; justify-content: flex-start; width: 100% }\n",
              "    .wandb-col { display: flex; flex-direction: column; flex-basis: 100%; flex: 1; padding: 10px; }\n",
              "    </style>\n",
              "<div class=\"wandb-row\"><div class=\"wandb-col\"><h3>Run history:</h3><br/><table class=\"wandb\"><tr><td>epoch</td><td>▁▂▃▃▄▅▆▆▇█</td></tr><tr><td>train_loss</td><td>▂▆▁▂▃▃▂▆█▁</td></tr><tr><td>val_accuracy</td><td>▂▃▁▃▃█▃▃▃▃</td></tr><tr><td>val_loss</td><td>▁▆▂▃▅▄▂█▄▄</td></tr></table><br/></div><div class=\"wandb-col\"><h3>Run summary:</h3><br/><table class=\"wandb\"><tr><td>epoch</td><td>10</td></tr><tr><td>train_loss</td><td>2.30335</td></tr><tr><td>val_accuracy</td><td>0.0988</td></tr><tr><td>val_loss</td><td>2.30615</td></tr></table><br/></div></div>"
            ]
          },
          "metadata": {}
        },
        {
          "output_type": "display_data",
          "data": {
            "text/plain": [
              "<IPython.core.display.HTML object>"
            ],
            "text/html": [
              " View run <strong style=\"color:#cdcd00\">revived-sweep-4</strong> at: <a href='https://wandb.ai/wsniady-org/cifar-swp/runs/jwrq7re2' target=\"_blank\">https://wandb.ai/wsniady-org/cifar-swp/runs/jwrq7re2</a><br/> View project at: <a href='https://wandb.ai/wsniady-org/cifar-swp' target=\"_blank\">https://wandb.ai/wsniady-org/cifar-swp</a><br/>Synced 5 W&B file(s), 0 media file(s), 0 artifact file(s) and 0 other file(s)"
            ]
          },
          "metadata": {}
        },
        {
          "output_type": "display_data",
          "data": {
            "text/plain": [
              "<IPython.core.display.HTML object>"
            ],
            "text/html": [
              "Find logs at: <code>./wandb/run-20240429_212613-jwrq7re2/logs</code>"
            ]
          },
          "metadata": {}
        },
        {
          "output_type": "stream",
          "name": "stderr",
          "text": [
            "\u001b[34m\u001b[1mwandb\u001b[0m: Agent Starting Run: 7oko0cbq with config:\n",
            "\u001b[34m\u001b[1mwandb\u001b[0m: \tbatch_size: 64\n",
            "\u001b[34m\u001b[1mwandb\u001b[0m: \tepochs: 15\n",
            "\u001b[34m\u001b[1mwandb\u001b[0m: \tlearning_rate: 0.01\n",
            "\u001b[34m\u001b[1mwandb\u001b[0m: \toptimizer: adam\n"
          ]
        },
        {
          "output_type": "display_data",
          "data": {
            "text/plain": [
              "<IPython.core.display.HTML object>"
            ],
            "text/html": [
              "Tracking run with wandb version 0.16.6"
            ]
          },
          "metadata": {}
        },
        {
          "output_type": "display_data",
          "data": {
            "text/plain": [
              "<IPython.core.display.HTML object>"
            ],
            "text/html": [
              "Run data is saved locally in <code>/content/wandb/run-20240429_212855-7oko0cbq</code>"
            ]
          },
          "metadata": {}
        },
        {
          "output_type": "display_data",
          "data": {
            "text/plain": [
              "<IPython.core.display.HTML object>"
            ],
            "text/html": [
              "Syncing run <strong><a href='https://wandb.ai/wsniady-org/cifar-swp/runs/7oko0cbq' target=\"_blank\">valiant-sweep-5</a></strong> to <a href='https://wandb.ai/wsniady-org/cifar-swp' target=\"_blank\">Weights & Biases</a> (<a href='https://wandb.me/run' target=\"_blank\">docs</a>)<br/>Sweep page: <a href='https://wandb.ai/wsniady-org/cifar-swp/sweeps/wdh892sn' target=\"_blank\">https://wandb.ai/wsniady-org/cifar-swp/sweeps/wdh892sn</a>"
            ]
          },
          "metadata": {}
        },
        {
          "output_type": "display_data",
          "data": {
            "text/plain": [
              "<IPython.core.display.HTML object>"
            ],
            "text/html": [
              " View project at <a href='https://wandb.ai/wsniady-org/cifar-swp' target=\"_blank\">https://wandb.ai/wsniady-org/cifar-swp</a>"
            ]
          },
          "metadata": {}
        },
        {
          "output_type": "display_data",
          "data": {
            "text/plain": [
              "<IPython.core.display.HTML object>"
            ],
            "text/html": [
              " View sweep at <a href='https://wandb.ai/wsniady-org/cifar-swp/sweeps/wdh892sn' target=\"_blank\">https://wandb.ai/wsniady-org/cifar-swp/sweeps/wdh892sn</a>"
            ]
          },
          "metadata": {}
        },
        {
          "output_type": "display_data",
          "data": {
            "text/plain": [
              "<IPython.core.display.HTML object>"
            ],
            "text/html": [
              " View run at <a href='https://wandb.ai/wsniady-org/cifar-swp/runs/7oko0cbq' target=\"_blank\">https://wandb.ai/wsniady-org/cifar-swp/runs/7oko0cbq</a>"
            ]
          },
          "metadata": {}
        },
        {
          "output_type": "stream",
          "name": "stdout",
          "text": [
            "Epoch [1/15], train loss: 1.628826379776001, val_loss 1.610162833213806, val_accuracy: 0.3872\n",
            "Epoch [2/15], train loss: 1.9235855340957642, val_loss 1.6879870380401611, val_accuracy: 0.3872\n",
            "Epoch [3/15], train loss: 1.4098727703094482, val_loss 1.603538564491272, val_accuracy: 0.4092\n",
            "Epoch [4/15], train loss: 1.6144227981567383, val_loss 1.5369551643371582, val_accuracy: 0.4398\n",
            "Epoch [5/15], train loss: 1.176954984664917, val_loss 1.5420450239181518, val_accuracy: 0.4352\n",
            "Epoch [6/15], train loss: 1.7680782079696655, val_loss 1.4731931001663208, val_accuracy: 0.4538\n",
            "Epoch [7/15], train loss: 1.5214707851409912, val_loss 1.4314484407424928, val_accuracy: 0.4772\n",
            "Epoch [8/15], train loss: 1.343281626701355, val_loss 1.4345615379333496, val_accuracy: 0.4702\n",
            "Epoch [9/15], train loss: 1.9740784168243408, val_loss 1.453359434890747, val_accuracy: 0.4644\n",
            "Epoch [10/15], train loss: 1.2467175722122192, val_loss 1.5247537103652955, val_accuracy: 0.4386\n",
            "Epoch [11/15], train loss: 1.9580912590026855, val_loss 1.4453136688232422, val_accuracy: 0.4744\n",
            "Epoch [12/15], train loss: 2.33042573928833, val_loss 1.4958846031188966, val_accuracy: 0.4644\n",
            "Epoch [13/15], train loss: 1.8498594760894775, val_loss 1.4365359870910646, val_accuracy: 0.4738\n",
            "Epoch [14/15], train loss: 1.8658006191253662, val_loss 1.5606542541503907, val_accuracy: 0.4486\n",
            "Epoch [15/15], train loss: 1.1142818927764893, val_loss 1.4184393350601197, val_accuracy: 0.4884\n"
          ]
        },
        {
          "output_type": "display_data",
          "data": {
            "text/plain": [
              "VBox(children=(Label(value='0.001 MB of 0.001 MB uploaded\\r'), FloatProgress(value=1.0, max=1.0)))"
            ],
            "application/vnd.jupyter.widget-view+json": {
              "version_major": 2,
              "version_minor": 0,
              "model_id": "f4eb2fc2a3a14045ab934e83860d9b29"
            }
          },
          "metadata": {}
        },
        {
          "output_type": "display_data",
          "data": {
            "text/plain": [
              "<IPython.core.display.HTML object>"
            ],
            "text/html": [
              "<style>\n",
              "    table.wandb td:nth-child(1) { padding: 0 10px; text-align: left ; width: auto;} td:nth-child(2) {text-align: left ; width: 100%}\n",
              "    .wandb-row { display: flex; flex-direction: row; flex-wrap: wrap; justify-content: flex-start; width: 100% }\n",
              "    .wandb-col { display: flex; flex-direction: column; flex-basis: 100%; flex: 1; padding: 10px; }\n",
              "    </style>\n",
              "<div class=\"wandb-row\"><div class=\"wandb-col\"><h3>Run history:</h3><br/><table class=\"wandb\"><tr><td>epoch</td><td>▁▁▂▃▃▃▄▅▅▅▆▇▇▇█</td></tr><tr><td>train_loss</td><td>▄▆▃▄▁▅▃▂▆▂▆█▅▅▁</td></tr><tr><td>val_accuracy</td><td>▁▁▃▅▄▆▇▇▆▅▇▆▇▅█</td></tr><tr><td>val_loss</td><td>▆█▆▄▄▂▁▁▂▄▂▃▁▅▁</td></tr></table><br/></div><div class=\"wandb-col\"><h3>Run summary:</h3><br/><table class=\"wandb\"><tr><td>epoch</td><td>15</td></tr><tr><td>train_loss</td><td>1.11428</td></tr><tr><td>val_accuracy</td><td>0.4884</td></tr><tr><td>val_loss</td><td>1.41844</td></tr></table><br/></div></div>"
            ]
          },
          "metadata": {}
        },
        {
          "output_type": "display_data",
          "data": {
            "text/plain": [
              "<IPython.core.display.HTML object>"
            ],
            "text/html": [
              " View run <strong style=\"color:#cdcd00\">valiant-sweep-5</strong> at: <a href='https://wandb.ai/wsniady-org/cifar-swp/runs/7oko0cbq' target=\"_blank\">https://wandb.ai/wsniady-org/cifar-swp/runs/7oko0cbq</a><br/> View project at: <a href='https://wandb.ai/wsniady-org/cifar-swp' target=\"_blank\">https://wandb.ai/wsniady-org/cifar-swp</a><br/>Synced 5 W&B file(s), 0 media file(s), 0 artifact file(s) and 0 other file(s)"
            ]
          },
          "metadata": {}
        },
        {
          "output_type": "display_data",
          "data": {
            "text/plain": [
              "<IPython.core.display.HTML object>"
            ],
            "text/html": [
              "Find logs at: <code>./wandb/run-20240429_212855-7oko0cbq/logs</code>"
            ]
          },
          "metadata": {}
        }
      ]
    },
    {
      "cell_type": "code",
      "source": [
        "# test_dl = DeviceDataLoader(DataLoader(test_dataset, batch_size), device)\n",
        "# test_loss, _, test_acc = evaluate(model, F.cross_entropy, test_dl, metric  = accuracy)\n",
        "# test_loss, test_acc"
      ],
      "metadata": {
        "id": "prnqdFAjWaRO"
      },
      "execution_count": null,
      "outputs": []
    },
    {
      "cell_type": "code",
      "source": [
        "wandb.finish()"
      ],
      "metadata": {
        "id": "8a4zoP3qb_VD"
      },
      "execution_count": null,
      "outputs": []
    }
  ]
}